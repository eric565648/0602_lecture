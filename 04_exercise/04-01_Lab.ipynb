{
 "cells": [
  {
   "cell_type": "markdown",
   "metadata": {
    "colab_type": "text",
    "id": "YGMVDPHqFWPi"
   },
   "source": [
    "# Welcome To The World Of Jupyter\n",
    "\n",
    "<img style=\"float: left;\"  src=\"images/city.png\"  width=\"30%\">"
   ]
  },
  {
   "cell_type": "markdown",
   "metadata": {
    "colab_type": "text",
    "id": "JvB8wutxFWPi"
   },
   "source": [
    "# 04-01. Jupyter Shortcuts And Basic Python"
   ]
  },
  {
   "cell_type": "markdown",
   "metadata": {},
   "source": [
    "## Jupyter shortcuts"
   ]
  },
  {
   "cell_type": "markdown",
   "metadata": {},
   "source": [
    "<code>↑</code> / <code>↓</code> to move, <code>enter</code> to edit\n",
    "\n",
    "<code>Esc</code> to exit edit mode\n",
    "\n",
    "<code>Shift</code> + <code>enter</code> to run code\n",
    "\n",
    "<code>a</code> / <code>b</code> to add cell above/below\n",
    "\n",
    "<code>d</code>  <code>d</code> to delete cell\n",
    "\n",
    "<code>1</code> / <code>2</code> / <code>3</code>... to add comment\n",
    "\n",
    "press <code>h</code> for more shortcuts"
   ]
  },
  {
   "cell_type": "markdown",
   "metadata": {
    "colab_type": "text",
    "id": "tWZUIvH8MHNE"
   },
   "source": [
    "## Basic Practice\n",
    "\n",
    "### Learn the basic function you need to know."
   ]
  },
  {
   "cell_type": "markdown",
   "metadata": {
    "colab_type": "text",
    "id": "Lc0W4EqOFWPk"
   },
   "source": [
    "## 1. Basic Shortcut In Jupyter"
   ]
  },
  {
   "cell_type": "code",
   "execution_count": 1,
   "metadata": {
    "colab": {
     "autoexec": {
      "startup": false,
      "wait_interval": 0
     }
    },
    "colab_type": "code",
    "id": "cL7b4jO7FWPk"
   },
   "outputs": [],
   "source": [
    "#Use arrow button to move up and down"
   ]
  },
  {
   "cell_type": "code",
   "execution_count": 2,
   "metadata": {
    "colab": {
     "autoexec": {
      "startup": false,
      "wait_interval": 0
     }
    },
    "colab_type": "code",
    "id": "wSEKjK0qFWPn",
    "outputId": "50844706-9347-4886-823d-95ee18d19ff2"
   },
   "outputs": [
    {
     "name": "stdout",
     "output_type": "stream",
     "text": [
      "Hello Juypter\n"
     ]
    }
   ],
   "source": [
    "#Use Ctrl+Enter or Shift+Enter at this block to run it.\n",
    "\n",
    "print(\"Hello Juypter\")"
   ]
  },
  {
   "cell_type": "code",
   "execution_count": 3,
   "metadata": {
    "colab": {
     "autoexec": {
      "startup": false,
      "wait_interval": 0
     }
    },
    "colab_type": "code",
    "id": "6l5vG4m4PO6S"
   },
   "outputs": [
    {
     "name": "stdout",
     "output_type": "stream",
     "text": [
      "Delete Me\n"
     ]
    }
   ],
   "source": [
    "#Use dd to delete this block.\n",
    "\n",
    "print(\"Delete Me\")"
   ]
  },
  {
   "cell_type": "code",
   "execution_count": 4,
   "metadata": {
    "colab": {
     "autoexec": {
      "startup": false,
      "wait_interval": 0
     }
    },
    "colab_type": "code",
    "id": "ojepV2wWFWPr"
   },
   "outputs": [],
   "source": [
    "#Use B to create a new block Below.\n",
    "\n",
    "#Then trying to wirte something in it. (like Print function.)"
   ]
  },
  {
   "cell_type": "code",
   "execution_count": 5,
   "metadata": {
    "colab": {
     "autoexec": {
      "startup": false,
      "wait_interval": 0
     }
    },
    "colab_type": "code",
    "id": "ohJFuYt_PO6W",
    "outputId": "633eb51d-7501-45a4-f44b-31d667664097"
   },
   "outputs": [
    {
     "name": "stdout",
     "output_type": "stream",
     "text": [
      "Hello\n"
     ]
    }
   ],
   "source": [
    "print(\"Hello\")"
   ]
  },
  {
   "cell_type": "markdown",
   "metadata": {
    "colab_type": "text",
    "id": "c64Al-ErFWPu"
   },
   "source": [
    "## 2. Basic Math Calculate & Print"
   ]
  },
  {
   "cell_type": "code",
   "execution_count": 6,
   "metadata": {
    "colab": {
     "autoexec": {
      "startup": false,
      "wait_interval": 0
     }
    },
    "colab_type": "code",
    "id": "1RIzoUvxFWQO"
   },
   "outputs": [],
   "source": [
    "#Remember to import these head file\n",
    "\n",
    "import numpy  as  np\n",
    "import scipy  as  sp\n",
    "import cv2\n",
    "\n",
    "from matplotlib import pyplot as plt\n",
    "plt.rcParams['figure.figsize'] = (10, 10)        # large images\n",
    "plt.rcParams['image.interpolation'] = 'nearest'  # don't interpolate: show square pixels"
   ]
  },
  {
   "cell_type": "code",
   "execution_count": 7,
   "metadata": {
    "colab": {
     "autoexec": {
      "startup": false,
      "wait_interval": 0
     }
    },
    "colab_type": "code",
    "id": "ZxvXXf2MFWPu"
   },
   "outputs": [
    {
     "name": "stdout",
     "output_type": "stream",
     "text": [
      "5\n"
     ]
    }
   ],
   "source": [
    "#This is how variable work in Python.\n",
    "\n",
    "a = 2\n",
    "\n",
    "b = 3\n",
    "\n",
    "c = a + b\n",
    "\n",
    "print(c)\n",
    "\n",
    "# Compile this block to see waht will happened."
   ]
  },
  {
   "cell_type": "markdown",
   "metadata": {},
   "source": [
    "## 3. Data Type"
   ]
  },
  {
   "cell_type": "code",
   "execution_count": 8,
   "metadata": {},
   "outputs": [
    {
     "name": "stdout",
     "output_type": "stream",
     "text": [
      "<type 'float'> <type 'int'> <type 'str'>\n",
      "c + str(a) = 0122.5 <type 'str'>\n",
      "int(c) + a =  14.5 <type 'float'>\n"
     ]
    }
   ],
   "source": [
    "a = 2.5\n",
    "b = 3\n",
    "c = \"012\"\n",
    "print type(a),type(b),type(c)\n",
    "\n",
    "#compare the difference\n",
    "\n",
    "print \"c + str(a) =\", c+str(a), type(c+str(a))\n",
    "\n",
    "print \"int(c) + a = \", int(c)+a, type(int(c)+a)"
   ]
  },
  {
   "cell_type": "markdown",
   "metadata": {
    "colab_type": "text",
    "id": "PY0OzH69FWPw"
   },
   "source": [
    "## 4. If Else"
   ]
  },
  {
   "cell_type": "code",
   "execution_count": 9,
   "metadata": {
    "colab": {
     "autoexec": {
      "startup": false,
      "wait_interval": 0
     }
    },
    "colab_type": "code",
    "id": "ncwWV6pXFWPy",
    "outputId": "26793e50-c9fe-4964-a5e8-1994c221e010"
   },
   "outputs": [],
   "source": [
    "#This is how \"if\" work in Python. and print out \"true\".\n",
    "#Below is code I use the variable last block to print out true.\n",
    "\n",
    "if a == 2 :\n",
    "    if c == 6 :             # <- If this line is true,         \n",
    "        print(\"true\")       # <- do this. \n",
    "    else :                  # <- Otherwise,\n",
    "        print(\"false\")      # <- do this. \n",
    "\n",
    "# Compile this block to see waht will happened."
   ]
  },
  {
   "cell_type": "markdown",
   "metadata": {
    "colab_type": "text",
    "id": "h0znOCtHFWPz"
   },
   "source": [
    "## 5. For Loop"
   ]
  },
  {
   "cell_type": "code",
   "execution_count": 10,
   "metadata": {
    "colab": {
     "autoexec": {
      "startup": false,
      "wait_interval": 0
     }
    },
    "colab_type": "code",
    "id": "zAZJxisvFWP0"
   },
   "outputs": [
    {
     "name": "stdout",
     "output_type": "stream",
     "text": [
      "nine i=1 j=0\n",
      "nine i=1 j=1\n",
      "nine i=1 j=2\n",
      "nine i=3 j=0\n",
      "nine i=3 j=1\n",
      "nine i=3 j=2\n",
      "nine i=5 j=0\n",
      "nine i=5 j=1\n",
      "nine i=5 j=2\n"
     ]
    }
   ],
   "source": [
    "#This is how \"For\" work in Python.\n",
    "#Below is code how you can print the word \"nine\" nine time.\n",
    "\n",
    "for i in range(1,7,2) :     # <- You can asign the range (a,b) by yourself, and it will run from a to b-1 \n",
    "    for j in range(3):    # <- or just make it run from 0 to x-1                \n",
    "        print (\"nine \"+\"i=\"+str(i)+\" j=\"+str(j))  # <- You can use + to combine string\n",
    "\n",
    "# Compile this block to see waht will happened.   "
   ]
  },
  {
   "cell_type": "markdown",
   "metadata": {
    "colab_type": "text",
    "id": "lmewphzmFWP7"
   },
   "source": [
    "## 6. 2D Array"
   ]
  },
  {
   "cell_type": "code",
   "execution_count": 11,
   "metadata": {
    "colab": {
     "autoexec": {
      "startup": false,
      "wait_interval": 0
     }
    },
    "colab_type": "code",
    "id": "4dnx0q8NPO6q",
    "outputId": "0029ee6b-39fc-4496-ae80-f7745aa6fb22"
   },
   "outputs": [
    {
     "name": "stdout",
     "output_type": "stream",
     "text": [
      "(3, 3)\n",
      "[[ 1.  1.  1.]\n",
      " [ 1.  1.  1.]\n",
      " [ 1.  1.  1.]]\n",
      "\n",
      "\n",
      "(4, 4)\n",
      "[[ 0.  0.  0.  0.]\n",
      " [ 0.  0.  0.  0.]\n",
      " [ 0.  0.  0.  0.]\n",
      " [ 0.  0.  0.  0.]]\n",
      "[[ 0.  0.  0.  0.]\n",
      " [ 0.  5.  5.  0.]\n",
      " [ 0.  5.  5.  0.]\n",
      " [ 0.  0.  0.  0.]]\n"
     ]
    }
   ],
   "source": [
    "#This is how matrix work in Python.\n",
    "#(don't change row after print a line, and print out variabe with other texts)\n",
    "\n",
    "x = np.ones([3,3])\n",
    "y = np.zeros([4,4])\n",
    "\n",
    "print(x.shape)\n",
    "print(x)\n",
    "print(\"\\n\")\n",
    "print(y.shape)\n",
    "print(y)\n",
    "\n",
    "z = y\n",
    "z[ 1:3 , 1:3 ] = 5 # Assign numbers in matrix's range. \n",
    "print(z)\n",
    "\n",
    "# Compile this block to see waht will happened. "
   ]
  },
  {
   "cell_type": "markdown",
   "metadata": {
    "colab_type": "text",
    "id": "8K_C-UfTPO6u"
   },
   "source": [
    "## 7. Input"
   ]
  },
  {
   "cell_type": "code",
   "execution_count": 12,
   "metadata": {
    "colab": {
     "autoexec": {
      "startup": false,
      "wait_interval": 0
     }
    },
    "colab_type": "code",
    "id": "wrWeNgDdFWQB",
    "outputId": "05a1208d-26e9-4aef-c745-b3ec42e5b5af"
   },
   "outputs": [
    {
     "name": "stdout",
     "output_type": "stream",
     "text": [
      "input:\n"
     ]
    },
    {
     "ename": "SyntaxError",
     "evalue": "unexpected EOF while parsing (<string>, line 0)",
     "output_type": "error",
     "traceback": [
      "\u001b[0;36m  File \u001b[0;32m\"<string>\"\u001b[0;36m, line \u001b[0;32munknown\u001b[0m\n\u001b[0;31m    \u001b[0m\n\u001b[0m    ^\u001b[0m\n\u001b[0;31mSyntaxError\u001b[0m\u001b[0;31m:\u001b[0m unexpected EOF while parsing\n"
     ]
    }
   ],
   "source": [
    "# This is how you can get input frome the keyboard.\n",
    "\n",
    "temp = input(\"input:\")\n",
    "\n",
    "print(temp)\n",
    "\n",
    "# Compile this block to see waht will happened. "
   ]
  },
  {
   "cell_type": "markdown",
   "metadata": {},
   "source": [
    "##  8. slice notation & advance print\n",
    "#### Use [m:n] to choose index from m to n-1\n",
    "#### # index of array\n",
    "| p | y | t | h | o | n |\n",
    "|---|---|---|---|---|---|\n",
    "| 0 | 1 | 2 | 3 | 4 | 5 |\n",
    "|-5 |-4 |-3 |-2 |-1 | X |"
   ]
  },
  {
   "cell_type": "code",
   "execution_count": 14,
   "metadata": {},
   "outputs": [
    {
     "name": "stdout",
     "output_type": "stream",
     "text": [
      "x[:]= [0 1 2 3 4 5 6 7 8 9]\n",
      "x[:-1]=[0 1 2 3 4 5 6 7 8]\n",
      "x[2:]=[2 3 4 5 6 7 8 9]\n",
      "x[2:-3]=[2 3 4 5 6]\n",
      "x[2:7]=[2 3 4 5 6]\n"
     ]
    }
   ],
   "source": [
    "x = np.arange(0, 10 ,1)\n",
    "\n",
    "print \"x[:]=\",\n",
    "print x[:]\n",
    "\n",
    "print \"x[:-1]=%s\" %(x[:-1])\n",
    "\n",
    "print (\"x[2:]=%s\" %(x[2:]))\n",
    "\n",
    "print \"x[2:-3]={0}\\nx[2:7]={1}\".format(x[2:-3], x[2:7])"
   ]
  },
  {
   "cell_type": "markdown",
   "metadata": {
    "colab_type": "text",
    "id": "sOPH8cKDFWQA"
   },
   "source": [
    "## Basic Chanllenge\n",
    "\n",
    "#### Now with the knowledge above, trying to finish these task."
   ]
  },
  {
   "cell_type": "markdown",
   "metadata": {
    "colab_type": "text",
    "id": "e7U4UtQePO6z"
   },
   "source": [
    "## 1. Multiplication Table"
   ]
  },
  {
   "cell_type": "code",
   "execution_count": 15,
   "metadata": {
    "colab": {
     "autoexec": {
      "startup": false,
      "wait_interval": 0
     }
    },
    "colab_type": "code",
    "id": "MH9dIWvGPO6z"
   },
   "outputs": [],
   "source": [
    "#  Now, try to print a multiplication table (from 1~9) with for function\n",
    "\n",
    "#  It should look like this \n",
    "\n",
    "#  1*1=1 1*2=2 ...\n",
    "#  2*1=2 2*2=4 ...\n",
    "#  ..."
   ]
  },
  {
   "cell_type": "code",
   "execution_count": 16,
   "metadata": {
    "colab": {
     "autoexec": {
      "startup": false,
      "wait_interval": 0
     }
    },
    "colab_type": "code",
    "id": "lyarrLPuPO62"
   },
   "outputs": [],
   "source": [
    "# Finish your code here #"
   ]
  },
  {
   "cell_type": "markdown",
   "metadata": {
    "colab_type": "text",
    "id": "J-TfDY5DPO65"
   },
   "source": [
    "## 2. Matrix"
   ]
  },
  {
   "cell_type": "code",
   "execution_count": 17,
   "metadata": {
    "colab": {
     "autoexec": {
      "startup": false,
      "wait_interval": 0
     }
    },
    "colab_type": "code",
    "id": "hAixWqiuFWP8"
   },
   "outputs": [],
   "source": [
    "#Now, try to create a 2d array with 1 on the border and 0 inside.\n",
    "\n",
    "# It should look like this \n",
    "\n",
    "#        1  1  1  1\n",
    "#        1  0  0  1\n",
    "#        1  0  0  1\n",
    "#        1  1  1  1\n"
   ]
  },
  {
   "cell_type": "code",
   "execution_count": 18,
   "metadata": {
    "colab": {
     "autoexec": {
      "startup": false,
      "wait_interval": 0
     }
    },
    "colab_type": "code",
    "id": "BHFeiwS4FWP9"
   },
   "outputs": [],
   "source": [
    "# Finish your code here #"
   ]
  },
  {
   "cell_type": "markdown",
   "metadata": {},
   "source": [
    "##  3. Draw z = cos( x^2 + y^2 ) "
   ]
  },
  {
   "cell_type": "code",
   "execution_count": 23,
   "metadata": {},
   "outputs": [],
   "source": [
    "#  Hint : We have done draw z = sin(x^2 + y^2)/(x^2 + y^2), just modify the code!\n",
    "#         review chapter \"example for function evaluation\" in \"04-01-01-python-tutorial\""
   ]
  },
  {
   "cell_type": "code",
   "execution_count": 24,
   "metadata": {},
   "outputs": [],
   "source": [
    "#Step:\n",
    "    #1. import numpy & matplotlib.pyplot\n",
    "    #2. meshgrid the x, y\n",
    "    #3. use the result of meshgrid to draw"
   ]
  },
  {
   "cell_type": "markdown",
   "metadata": {},
   "source": [
    "## Congraduation !  You have finished this lab !"
   ]
  },
  {
   "cell_type": "markdown",
   "metadata": {},
   "source": [
    "# Advance Chanllenge\n",
    "#### If you have some extra time, maybe you can try the chanllenge below."
   ]
  },
  {
   "cell_type": "markdown",
   "metadata": {
    "colab_type": "text",
    "id": "Y_GZCV_ZFWQA"
   },
   "source": [
    "## 4.  Matrix With Input"
   ]
  },
  {
   "cell_type": "code",
   "execution_count": 21,
   "metadata": {
    "colab": {
     "autoexec": {
      "startup": false,
      "wait_interval": 0
     }
    },
    "colab_type": "code",
    "id": "SeaInTnaFWQD"
   },
   "outputs": [],
   "source": [
    "#Now, try to combine \"input\", \"array\", \"if\", and \"for\"\n",
    "#to create a 2d array with input (int) and output like this\n",
    "\n",
    "# input 4\n",
    "\n",
    "# 1 1 1 1\n",
    "# 1 0 0 1\n",
    "# 1 0 0 1\n",
    "# 1 1 1 1\n",
    "\n",
    "# input 7\n",
    "\n",
    "# 1 1 1 1 1 1 1 \n",
    "# 1 0 0 0 0 0 1\n",
    "# 1 0 1 1 1 0 1\n",
    "# 1 0 1 0 1 0 1\n",
    "# 1 0 1 1 1 0 1\n",
    "# 1 0 0 0 0 0 1\n",
    "# 1 1 1 1 1 1 1"
   ]
  },
  {
   "cell_type": "code",
   "execution_count": 22,
   "metadata": {
    "colab": {
     "autoexec": {
      "startup": false,
      "wait_interval": 0
     }
    },
    "colab_type": "code",
    "id": "eFS7r-HUFWQG"
   },
   "outputs": [],
   "source": [
    "# Finish your code here #"
   ]
  }
 ],
 "metadata": {
  "kernelspec": {
   "display_name": "Python 2",
   "language": "python",
   "name": "python2"
  },
  "language_info": {
   "codemirror_mode": {
    "name": "ipython",
    "version": 2
   },
   "file_extension": ".py",
   "mimetype": "text/x-python",
   "name": "python",
   "nbconvert_exporter": "python",
   "pygments_lexer": "ipython2",
   "version": "2.7.12"
  }
 },
 "nbformat": 4,
 "nbformat_minor": 2
}
