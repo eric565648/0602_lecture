{
 "cells": [
  {
   "cell_type": "markdown",
   "metadata": {},
   "source": [
    "# 4-3 Lane Filter and Car Commands\n",
    "###      4-3-1 Line Detection\n",
    "###      4-3-2 Lane Filter\n",
    "###      4-3-3 Car Commands"
   ]
  },
  {
   "cell_type": "markdown",
   "metadata": {},
   "source": [
    "## 4-3-1 Line Detection\n",
    "### Import Packages and Load the image and resize"
   ]
  },
  {
   "cell_type": "code",
   "execution_count": null,
   "metadata": {},
   "outputs": [],
   "source": [
    "import cv2\n",
    "import numpy as np\n",
    "from matplotlib import pyplot as plt\n",
    "%matplotlib inline\n",
    "\n",
    "#Use your own image\n",
    "img = cv2.imread(\"images/curve-right.jpg\")\n",
    "\n",
    "image_cv = cv2.resize(img, (160, 120),interpolation=cv2.INTER_NEAREST)\n",
    "\n",
    "dst1 = cv2.cvtColor(img,cv2.COLOR_BGR2RGB)\n",
    "plt.subplot(121),plt.imshow(dst1,cmap = 'brg')\n",
    "plt.title('Original Image'), plt.xticks([]), plt.yticks([])\n",
    "\n",
    "dst2 = cv2.cvtColor(image_cv,cv2.COLOR_BGR2RGB)\n",
    "plt.subplot(122),plt.imshow(dst2,cmap = 'brg')\n",
    "plt.title('Resized Image'), plt.xticks([]), plt.yticks([])\n",
    "\n",
    "plt.show()\n"
   ]
  },
  {
   "cell_type": "markdown",
   "metadata": {},
   "source": [
    "### Find the Edges\n",
    "\n",
    "You should find the config file 'universal.yaml'"
   ]
  },
  {
   "cell_type": "code",
   "execution_count": null,
   "metadata": {
    "scrolled": true
   },
   "outputs": [],
   "source": [
    "gray = cv2.cvtColor(image_cv,cv2.COLOR_BGR2GRAY)\n",
    "edges=cv2.Canny(gray,100,350)\n",
    "plt.imshow(edges,cmap = 'gray')\n",
    "plt.title('Edge Image'), plt.xticks([]), plt.yticks([])\n",
    "plt.show()"
   ]
  },
  {
   "cell_type": "markdown",
   "metadata": {},
   "source": [
    "### Setup HSV Space Threshold\n",
    "\n",
    "You should find the config file 'universal.yaml'"
   ]
  },
  {
   "cell_type": "code",
   "execution_count": null,
   "metadata": {
    "collapsed": true
   },
   "outputs": [],
   "source": [
    "hsv_white1 = np.array([0,0,150])\n",
    "hsv_white2 = np.array([180,100,255])\n",
    "hsv_yellow1 = np.array([25,50,50])\n",
    "hsv_yellow2 = np.array([45,255,255])\n",
    "hsv_red1 = np.array([0,100,100])\n",
    "hsv_red2 = np.array([15,255,255])\n",
    "hsv_red3 = np.array([165,100,100])\n",
    "hsv_red4 = np.array([180,255,255])"
   ]
  },
  {
   "cell_type": "markdown",
   "metadata": {},
   "source": [
    "### Threshold colors in HSV space"
   ]
  },
  {
   "cell_type": "code",
   "execution_count": null,
   "metadata": {},
   "outputs": [],
   "source": [
    "hsv = cv2.cvtColor(image_cv,cv2.COLOR_BGR2HSV)\n",
    "white = cv2.inRange(hsv,hsv_white1,hsv_white2)\n",
    "yellow = cv2.inRange(hsv,hsv_yellow1,hsv_yellow2)\n",
    "red1 = cv2.inRange(hsv,hsv_red1,hsv_red2)\n",
    "red2 = cv2.inRange(hsv,hsv_red3,hsv_red4)\n",
    "red = cv2.bitwise_or(red1,red2)\n",
    "kernel = cv2.getStructuringElement(cv2.MORPH_ELLIPSE,(3, 3))\n",
    "white = cv2.dilate(white, kernel)\n",
    "yellow = cv2.dilate(yellow, kernel)\n",
    "red = cv2.dilate(red, kernel)\n",
    "# Uncomment '#' to plot with color\n",
    "x = cv2.cvtColor(yellow, cv2.COLOR_GRAY2BGR)\n",
    "x[:,:,2] *= 1\n",
    "x[:,:,1] *= 1\n",
    "x[:,:,0] *= 0\n",
    "x = cv2.cvtColor(x, cv2.COLOR_BGR2RGB)\n",
    "\n",
    "y = cv2.cvtColor(red, cv2.COLOR_GRAY2BGR)\n",
    "y[:,:,2] *= 1\n",
    "y[:,:,1] *= 0\n",
    "y[:,:,0] *= 0\n",
    "y = cv2.cvtColor(y, cv2.COLOR_BGR2RGB)\n",
    "\n",
    "plt.subplot(131),plt.imshow(white,cmap = 'gray')\n",
    "plt.title('White'), plt.xticks([]), plt.yticks([])\n",
    "\n",
    "plt.subplot(132),plt.imshow(yellow,cmap = 'gray')\n",
    "plt.subplot(132),plt.imshow(x,cmap = 'brg')\n",
    "plt.title('Yellow'), plt.xticks([]), plt.yticks([])\n",
    "\n",
    "plt.subplot(133),plt.imshow(red,cmap = 'gray')\n",
    "plt.subplot(133),plt.imshow(y,cmap = 'brg')\n",
    "plt.title('Red'), plt.xticks([]), plt.yticks([])\n",
    "\n",
    "plt.show()"
   ]
  },
  {
   "cell_type": "markdown",
   "metadata": {},
   "source": [
    "### Combine Edge and Colors"
   ]
  },
  {
   "cell_type": "code",
   "execution_count": null,
   "metadata": {},
   "outputs": [],
   "source": [
    "edge_color_white=cv2.bitwise_and(edges,white)\n",
    "edge_color_yellow=cv2.bitwise_and(edges,yellow)\n",
    "edge_color_red=cv2.bitwise_and(edges,red)\n",
    "\n",
    "plt.imshow(edge_color_yellow,cmap = 'gray')\n",
    "plt.title('Edge Color Y'), plt.xticks([]), plt.yticks([])\n",
    "plt.subplot(131),plt.imshow(edge_color_white,cmap = 'gray')\n",
    "plt.title('Edge Color W'), plt.xticks([]), plt.yticks([])\n",
    "plt.subplot(132),plt.imshow(edge_color_yellow,cmap = 'gray')\n",
    "plt.title('Edge Color Y'), plt.xticks([]), plt.yticks([])\n",
    "plt.subplot(133),plt.imshow(edge_color_red,cmap = 'gray')\n",
    "plt.title('Edge Color R'), plt.xticks([]), plt.yticks([])\n",
    "\n",
    "plt.show()"
   ]
  },
  {
   "cell_type": "markdown",
   "metadata": {},
   "source": [
    "### Find the lines"
   ]
  },
  {
   "cell_type": "code",
   "execution_count": null,
   "metadata": {},
   "outputs": [],
   "source": [
    "lines_white = cv2.HoughLinesP(edge_color_white,1,np.pi/180,10,np.empty(1),1.5,1)\n",
    "lines_yellow = cv2.HoughLinesP(edge_color_yellow,1,np.pi/180,10,np.empty(1),1.5,1)\n",
    "lines_red = cv2.HoughLinesP(edge_color_red,1,np.pi/180,10,np.empty(1),1.5,1)\n",
    "\n",
    "color = \"y\"\n",
    "lines = lines_yellow\n",
    "bw = yellow\n",
    "\n",
    "#color = \"y\"\n",
    "#lines = lines_white\n",
    "#bw = white\n",
    "\n",
    "if lines is not None:\n",
    "    lines = np.array(lines[0])\n",
    "    print \"found lines\"\n",
    "\n",
    "else:\n",
    "    lines = []\n",
    "    print \"no lines\""
   ]
  },
  {
   "cell_type": "markdown",
   "metadata": {},
   "source": [
    "### Show the lines (yellow)"
   ]
  },
  {
   "cell_type": "code",
   "execution_count": null,
   "metadata": {},
   "outputs": [],
   "source": [
    "image_with_lines = np.copy(dst2)\n",
    "if len(lines)>0:\n",
    "    for x1,y1,x2,y2 in lines:\n",
    "        cv2.line(image_with_lines, (x1,y1), (x2,y2), (0,0,255), 2)\n",
    "        cv2.circle(image_with_lines, (x1,y1), 2, (0,255,0))\n",
    "        cv2.circle(image_with_lines, (x2,y2), 2, (255,0,0))\n",
    "        \n",
    "plt.imshow(image_with_lines,cmap = 'brg')\n",
    "plt.title('Line Image'), plt.xticks([]), plt.yticks([])\n",
    "plt.show()"
   ]
  },
  {
   "cell_type": "markdown",
   "metadata": {},
   "source": [
    "### Find normals"
   ]
  },
  {
   "cell_type": "code",
   "execution_count": null,
   "metadata": {
    "collapsed": true
   },
   "outputs": [],
   "source": [
    "arr_cutoff = np.array((0, 40, 0, 40))\n",
    "arr_ratio = np.array((1./160, 1./120, 1./160, 1./120))\n",
    "        \n",
    "normals = []\n",
    "centers = []\n",
    "if len(lines)>0:\n",
    "    \n",
    "    #find the normalized coordinates\n",
    "    lines_normalized = ((lines + arr_cutoff) * arr_ratio)\n",
    "    length = np.sum((lines[:,0:2]-lines[:,2:4])**2,axis=1,keepdims=True)**0.5\n",
    "    dx = 1.*(lines[:,3:4]-lines[:,1:2])/length\n",
    "    dy = 1.*(lines[:,0:1]-lines[:,2:3])/length\n",
    "    centers = np.hstack([(lines[:,0:1]+lines[:,2:3])/2,(lines[:,1:2]+lines[:,3:4])/2])\n",
    "    #find the vectors' direction\n",
    "    x3 = (centers[:,0:1] - 3.*dx).astype('int')\n",
    "    x3[x3<0]=0\n",
    "    x3[x3>=160]=160-1\n",
    "\n",
    "    y3 = (centers[:,1:2] - 3.*dy).astype('int')\n",
    "    y3[y3<0]=0\n",
    "    y3[y3>=120]=120-1\n",
    "\n",
    "    x4 = (centers[:,0:1] + 3.*dx).astype('int')\n",
    "    x4[x4<0]=0\n",
    "    x4[x4>=160]=160-1\n",
    "    \n",
    "    y4 = (centers[:,1:2] + 3.*dy).astype('int')\n",
    "    y4[y4<0]=0\n",
    "    y4[y4>=120]=120-1\n",
    "    \n",
    "    flag_signs = (np.logical_and(bw[y3,x3]>0,bw[y4,x4]==0)).astype('int')*2-1\n",
    "    normals = np.hstack([dx, dy]) * flag_signs\n",
    "    flag = ((lines[:,2]-lines[:,0])*normals[:,1] - (lines[:,3]-lines[:,1])*normals[:,0])>0\n",
    "    for i in range(len(lines)):\n",
    "        if flag[i]:\n",
    "            x1,y1,x2,y2 = lines[i, :]\n",
    "            lines[i, :] = [x2,y2,x1,y1]"
   ]
  },
  {
   "cell_type": "markdown",
   "metadata": {},
   "source": [
    "### Draw the normals "
   ]
  },
  {
   "cell_type": "code",
   "execution_count": null,
   "metadata": {},
   "outputs": [],
   "source": [
    "image_with_lines = np.copy(dst2)\n",
    "if len(centers)>0:\n",
    "    for x,y,dx,dy in np.hstack((centers,normals)):\n",
    "        x3 = int(x - 2.*dx)\n",
    "        y3 = int(y - 2.*dy)\n",
    "        x4 = int(x + 2.*dx)\n",
    "        y4 = int(y + 2.*dy)\n",
    "        cv2.line(image_with_lines, (x3,y3), (x4,y4), (0,0,255), 1)\n",
    "        cv2.circle(image_with_lines, (x3,y3), 1, (0,255,0))\n",
    "        cv2.circle(image_with_lines, (x4,y4), 1, (255,0,0))\n",
    "            \n",
    "plt.subplot(121),plt.imshow(image_with_lines,cmap = 'brg')\n",
    "plt.title('Line Normals'), plt.xticks([]), plt.yticks([])\n",
    "\n",
    "image_with_lines = np.copy(dst2)\n",
    "if len(lines)>0:\n",
    "    for x1,y1,x2,y2 in lines:\n",
    "        cv2.line(image_with_lines, (x1,y1), (x2,y2), (0,0,255), 2)\n",
    "        cv2.circle(image_with_lines, (x1,y1), 2, (0,255,0))\n",
    "        cv2.circle(image_with_lines, (x2,y2), 2, (255,0,0))\n",
    "        \n",
    "plt.subplot(122),plt.imshow(image_with_lines,cmap = 'brg')\n",
    "plt.title('Line Image'), plt.xticks([]), plt.yticks([])\n",
    "plt.show()"
   ]
  },
  {
   "cell_type": "markdown",
   "metadata": {},
   "source": [
    "## 4-3-2 Lane Filter"
   ]
  },
  {
   "cell_type": "markdown",
   "metadata": {},
   "source": [
    "### Import packages"
   ]
  },
  {
   "cell_type": "code",
   "execution_count": null,
   "metadata": {
    "collapsed": true
   },
   "outputs": [],
   "source": [
    "import numpy as np\n",
    "from scipy.stats import multivariate_normal, entropy\n",
    "from scipy.ndimage.filters import gaussian_filter\n",
    "from math import floor, atan2, pi, cos, sin, sqrt\n",
    "import time\n",
    "from matplotlib import pyplot as plt"
   ]
  },
  {
   "cell_type": "markdown",
   "metadata": {},
   "source": [
    "### Environment Setup"
   ]
  },
  {
   "cell_type": "code",
   "execution_count": null,
   "metadata": {
    "collapsed": true
   },
   "outputs": [],
   "source": [
    "# constant\n",
    "WHITE = 0\n",
    "YELLOW = 1\n",
    "RED = 2\n",
    "\n",
    "lanewidth = 0.4\n",
    "linewidth_white = 0.04\n",
    "linewidth_yellow = 0.02\n"
   ]
  },
  {
   "cell_type": "markdown",
   "metadata": {},
   "source": [
    "### Generate Vote from Line Segments"
   ]
  },
  {
   "cell_type": "markdown",
   "metadata": {},
   "source": [
    "#### Setup a line segment\n",
    "* left edge of white lane\n",
    "* right edge of white lane\n",
    "* left edge of yellow lane\n",
    "* right edge of white lane"
   ]
  },
  {
   "cell_type": "code",
   "execution_count": null,
   "metadata": {},
   "outputs": [],
   "source": [
    "\n",
    "# right edge of yellow lane\n",
    "#p1 = np.array([0.8, 0.24])\n",
    "#p2 = np.array([0.4, 0.24])\n",
    "#print len(lines_normalized)\n",
    "p1 = np.array([lines_normalized[0][0],lines_normalized[0][1]])\n",
    "p2 = np.array([lines_normalized[0][2],lines_normalized[0][3]]) \n",
    "seg_color = YELLOW\n",
    "print p1[0], p1[1], p2[0], p2[1]\n",
    "\n",
    "# left edge of white lane\n",
    "#p1 = np.array([0.4, 0.2])\n",
    "#p2 = np.array([0.8, 0.2])\n",
    "#seg_color = WHITE\n",
    "\n",
    "plt.plot([p1[0], p2[0]], [p1[1], p2[1]], 'ro')\n",
    "plt.plot([p1[0], p2[0]], [p1[1], p2[1]])\n",
    "plt.ylabel('y')\n",
    "plt.axis([0, 1, 0, 1])\n",
    "plt.show()"
   ]
  },
  {
   "cell_type": "markdown",
   "metadata": {},
   "source": [
    "#### compute d_i, phi_i, l_i"
   ]
  },
  {
   "cell_type": "code",
   "execution_count": null,
   "metadata": {},
   "outputs": [],
   "source": [
    "t_hat = (p2-p1)/np.linalg.norm(p2-p1)\n",
    "n_hat = np.array([-t_hat[1],t_hat[0]])\n",
    "d1 = np.inner(n_hat,p1)\n",
    "d2 = np.inner(n_hat,p2)\n",
    "l1 = np.inner(t_hat,p1)\n",
    "l2 = np.inner(t_hat,p2)\n",
    "\n",
    "print (d1, d2, l1, l2)\n",
    "\n",
    "if (l1 < 0):\n",
    "    l1 = -l1;\n",
    "if (l2 < 0):\n",
    "    l2 = -l2;\n",
    "l_i = (l1+l2)/2\n",
    "d_i = (d1+d2)/2\n",
    "phi_i = np.arcsin(t_hat[1])\n",
    "if seg_color == WHITE: # right lane is white\n",
    "    if(p1[0] > p2[0]): # right edge of white lane\n",
    "        d_i = d_i - linewidth_white\n",
    "        print ('right edge of white lane')\n",
    "    else: # left edge of white lane\n",
    "        d_i = - d_i\n",
    "        phi_i = -phi_i\n",
    "        print ('left edge of white lane')\n",
    "    d_i = d_i - lanewidth/2\n",
    "\n",
    "elif seg_color == YELLOW: # left lane is yellow\n",
    "    if (p2[0] > p1[0]): # left edge of yellow lane\n",
    "        d_i = d_i - linewidth_yellow\n",
    "        phi_i = -phi_i\n",
    "        print ('left edge of yellow lane')\n",
    "    else: # right edge of yellow lane\n",
    "        d_i = -d_i\n",
    "        print ('right edge of yellow lane')\n",
    "    d_i =  lanewidth/2 - d_i\n",
    "\n",
    "    \n",
    "print (d_i, phi_i, l_i) "
   ]
  },
  {
   "cell_type": "markdown",
   "metadata": {},
   "source": [
    "### Measurement Likelihood"
   ]
  },
  {
   "cell_type": "code",
   "execution_count": null,
   "metadata": {
    "scrolled": true
   },
   "outputs": [],
   "source": [
    "# initialize measurement likelihood\n",
    "\n",
    "d_min = -0.7\n",
    "d_max = 0.5\n",
    "delta_d = 0.02\n",
    "phi_min = -pi/2\n",
    "phi_max = pi/2\n",
    "delta_phi = 0.02\n",
    "d, phi = np.mgrid[d_min:d_max:delta_d, phi_min:phi_max:delta_phi]\n",
    "\n",
    "measurement_likelihood = np.zeros(d.shape)\n",
    "\n",
    "fig = plt.figure()\n",
    "ax = fig.add_subplot(111)\n",
    "cax = ax.matshow(measurement_likelihood, interpolation='nearest')\n",
    "fig.colorbar(cax)\n",
    "plt.ylabel('phi')\n",
    "plt.xlabel('d')\n",
    "#ax.set_xticklabels(['']+alpha)\n",
    "#ax.set_yticklabels(['']+alpha)\n",
    "plt.show()\n",
    "\n"
   ]
  },
  {
   "cell_type": "code",
   "execution_count": null,
   "metadata": {},
   "outputs": [],
   "source": [
    "i = int(floor((d_i - d_min)/delta_d))\n",
    "j = int(floor((phi_i - phi_min)/delta_phi))\n",
    "print measurement_likelihood[i:j]\n",
    "measurement_likelihood[i,j] = measurement_likelihood[i,j] +  1/(l_i)\n",
    "\n",
    "print (i, j)\n",
    "\n",
    "fig = plt.figure()\n",
    "ax = fig.add_subplot(111)\n",
    "cax = ax.matshow(measurement_likelihood, interpolation='nearest')\n",
    "fig.colorbar(cax)\n",
    "plt.ylabel('phi')\n",
    "plt.xlabel('d')\n",
    "#ax.set_xticklabels(['']+alpha)\n",
    "#ax.set_yticklabels(['']+alpha)\n",
    "plt.show()"
   ]
  },
  {
   "cell_type": "markdown",
   "metadata": {},
   "source": [
    "## 4-3-3 Car Command"
   ]
  },
  {
   "cell_type": "markdown",
   "metadata": {},
   "source": [
    "### Import Packages"
   ]
  },
  {
   "cell_type": "code",
   "execution_count": null,
   "metadata": {
    "collapsed": true
   },
   "outputs": [],
   "source": [
    "import numpy as np\n",
    "import scipy as sp\n",
    "import cv2\n",
    "import time\n",
    "\n",
    "from matplotlib import pyplot as plt\n",
    "%matplotlib inline\n",
    "# set display defaults\n",
    "plt.rcParams['figure.figsize'] = (10, 10)        # large images\n",
    "plt.rcParams['image.interpolation'] = 'nearest'  # don't interpolate: show square pixels"
   ]
  },
  {
   "cell_type": "markdown",
   "metadata": {},
   "source": [
    "### ROS Setup"
   ]
  },
  {
   "cell_type": "code",
   "execution_count": null,
   "metadata": {
    "collapsed": true
   },
   "outputs": [],
   "source": [
    "import sys\n",
    "# rospy\n",
    "sys.path.insert(0, '/opt/ros/indigo/lib/python2.7/dist-packages')\n",
    "# rospkg\n",
    "sys.path.insert(0, '/usr/lib/python2.7/dist-packages/')\n",
    "\n",
    "# duckietown_msgs\n",
    "duckietown_root = '../duckietown-pi2/'  # this file should be run from {duckietown_root}/turorials/python (otherwise change this line)\n",
    "sys.path.insert(0, duckietown_root + 'catkin_ws/devel/lib/python2.7/dist-packages')\n",
    "\n",
    "import rospy\n",
    "from duckietown_msgs.msg import Twist2DStamped\n"
   ]
  },
  {
   "cell_type": "markdown",
   "metadata": {},
   "source": [
    "### please open roscore in your laptop\n",
    "### and open joystick_jupyter.launch in pkg duckietown_nctu_wama\n",
    "\n",
    "#laptop: source environment.sh\n",
    "#laptop: source set_ros_master.sh [your_laptop_name]\n",
    "#laptop: roscore\n",
    "#duckiebot: source environment.sh\n",
    "#duckiebot: source set_ros_master.sh [your_laptop_name]\n",
    "#duckiebot: roslaunch duckietown_nctu_wama joystick_jupyter.launch veh:=[your_duckiebot_name]"
   ]
  },
  {
   "cell_type": "markdown",
   "metadata": {},
   "source": [
    "### Initial a ROS Node\n",
    "### modified \"erikciebot\" to your duckiebot's name"
   ]
  },
  {
   "cell_type": "code",
   "execution_count": null,
   "metadata": {
    "collapsed": true
   },
   "outputs": [],
   "source": [
    "rospy.init_node(\"joystick_jupyter\",anonymous=False)\n",
    "#please replace \"car13\" with your duckiebot name\n",
    "pub_car_cmd = rospy.Publisher(\"erickiebot/joystick_jupyter/car_cmd\",Twist2DStamped,queue_size=1)\n"
   ]
  },
  {
   "cell_type": "markdown",
   "metadata": {},
   "source": [
    "### Take a look at the ROS Topics"
   ]
  },
  {
   "cell_type": "code",
   "execution_count": null,
   "metadata": {
    "collapsed": true
   },
   "outputs": [],
   "source": [
    "%%bash\n",
    "rostopic list"
   ]
  },
  {
   "cell_type": "markdown",
   "metadata": {},
   "source": [
    "### Define a function for publishing car command "
   ]
  },
  {
   "cell_type": "code",
   "execution_count": null,
   "metadata": {
    "collapsed": true
   },
   "outputs": [],
   "source": [
    "def car_command(v, omega, duration):\n",
    "# Send stop command\n",
    "    car_control_msg = Twist2DStamped()\n",
    "    car_control_msg.v = v \n",
    "    car_control_msg.omega = omega \n",
    "    pub_car_cmd.publish(car_control_msg)\n",
    "    rospy.sleep(duration)\n",
    "    #rospy.loginfo(\"Shutdown\")\n",
    "    car_control_msg.v = 0.0 \n",
    "    car_control_msg.omega = 0.0 \n",
    "    pub_car_cmd.publish(car_control_msg)   "
   ]
  },
  {
   "cell_type": "markdown",
   "metadata": {},
   "source": [
    "### Forward (F), Turn Left (L), or Turn Right (R)\n",
    "\n",
    "Send commands and calibrate your duckiebot"
   ]
  },
  {
   "cell_type": "markdown",
   "metadata": {},
   "source": [
    "### Ex1: Forward 0.5 Tile Width"
   ]
  },
  {
   "cell_type": "code",
   "execution_count": null,
   "metadata": {
    "collapsed": true
   },
   "outputs": [],
   "source": [
    "car_command(0.5, 0, 0.75)"
   ]
  },
  {
   "cell_type": "markdown",
   "metadata": {},
   "source": [
    "### EX2: Turn 45 or 90 Degrees"
   ]
  },
  {
   "cell_type": "code",
   "execution_count": null,
   "metadata": {
    "collapsed": true
   },
   "outputs": [],
   "source": [
    "car_command(0.2, 4, 1.005)"
   ]
  },
  {
   "cell_type": "markdown",
   "metadata": {},
   "source": [
    "### Setup a Switch for concat of primitives"
   ]
  },
  {
   "cell_type": "code",
   "execution_count": null,
   "metadata": {
    "collapsed": true
   },
   "outputs": [],
   "source": [
    "class switch(object):\n",
    "    def __init__(self, value):\n",
    "        self.value = value\n",
    "        self.fall = False\n",
    " \n",
    "    def __iter__(self):\n",
    "        \"\"\"Return the match method once, then stop\"\"\"\n",
    "        yield self.match\n",
    "        raise StopIteration\n",
    "     \n",
    "    def match(self, *args):\n",
    "        \"\"\"Indicate whether or not to enter a case suite\"\"\"\n",
    "        if self.fall or not args:\n",
    "            return True\n",
    "        elif self.value in args: # changed for v1.5, see below\n",
    "            self.fall = True\n",
    "            return True\n",
    "        else:\n",
    "            return False\n",
    "\n",
    "def motion_concat(concat):\n",
    "    for i in range(len(concat)):\n",
    "        primitives = concat[i]\n",
    "        for case in switch(primitives):\n",
    "            if case('S'):\n",
    "                car_command(0.5, 0, 0.25)\n",
    "                break\n",
    "            if case('L'):\n",
    "                car_command(0.2, 4, 0.82)\n",
    "                break\n",
    "            if case('R'):\n",
    "                car_command(0.2, -4, 0.78)\n",
    "                break\n",
    "            if case('B'):\n",
    "                car_command(-0.4, 0, 0.5)\n",
    "                break"
   ]
  },
  {
   "cell_type": "markdown",
   "metadata": {},
   "source": [
    "### Ex3: Overtaking"
   ]
  },
  {
   "cell_type": "code",
   "execution_count": null,
   "metadata": {
    "collapsed": true
   },
   "outputs": [],
   "source": [
    "overtaking = \"LSRSSSSRSLSS\"\n",
    "motion_concat(overtaking)"
   ]
  },
  {
   "cell_type": "code",
   "execution_count": null,
   "metadata": {
    "collapsed": true
   },
   "outputs": [],
   "source": []
  }
 ],
 "metadata": {
  "anaconda-cloud": {},
  "kernelspec": {
   "display_name": "Python 2",
   "language": "python",
   "name": "python2"
  },
  "language_info": {
   "codemirror_mode": {
    "name": "ipython",
    "version": 2
   },
   "file_extension": ".py",
   "mimetype": "text/x-python",
   "name": "python",
   "nbconvert_exporter": "python",
   "pygments_lexer": "ipython2",
   "version": "2.7.6"
  }
 },
 "nbformat": 4,
 "nbformat_minor": 1
}
