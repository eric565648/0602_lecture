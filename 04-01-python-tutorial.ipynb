{
 "cells": [
  {
   "cell_type": "markdown",
   "metadata": {
    "colab_type": "text",
    "id": "ToPQvf557GUH"
   },
   "source": [
    "# 4-1 Python and Jupyter Notebook.\n",
    "Welcom To Jupyter Notebook Guys!"
   ]
  },
  {
   "cell_type": "markdown",
   "metadata": {
    "colab_type": "text",
    "id": "1yJ2jd9h7GUH"
   },
   "source": [
    "Jupyter notebook is very convenient for a python developer to test their code.\n",
    "Come and be one of us!"
   ]
  },
  {
   "cell_type": "markdown",
   "metadata": {
    "colab_type": "text",
    "id": "DX2-COgc7GUH"
   },
   "source": [
    "# Jupyter  shortcuts"
   ]
  },
  {
   "cell_type": "markdown",
   "metadata": {
    "colab_type": "text",
    "id": "xFiKU9fF7GUH"
   },
   "source": [
    "up/down arrow keys to move, enter to edit\n",
    "\n",
    "Esc to exit edit mode\n",
    "\n",
    "Shift + enter to run code\n",
    "\n",
    "a/b to add cell above/below\n",
    "\n",
    "dd to delete cell\n",
    "\n",
    "1/2/3... to add comment\n",
    "\n",
    "press h for more shortcuts"
   ]
  },
  {
   "cell_type": "code",
   "execution_count": null,
   "metadata": {
    "colab": {
     "autoexec": {
      "startup": false,
      "wait_interval": 0
     }
    },
    "colab_type": "code",
    "id": "5ROEMx_07GUH",
    "scrolled": true
   },
   "outputs": [],
   "source": [
    "import cv2\n",
    "from matplotlib import pyplot as plt\n",
    "\n",
    "img = cv2.imread('images/duckietown.jpg')\n",
    "dst1 = cv2.cvtColor(img,cv2.COLOR_BGR2RGB)\n",
    "plt.subplot(121), plt.imshow(dst1, cmap = 'brg')\n",
    "plt.title('Original Image')\n",
    "plt.show()\n"
   ]
  },
  {
   "cell_type": "markdown",
   "metadata": {
    "colab_type": "text",
    "id": "zDlEcKOd7GUH"
   },
   "source": [
    "# Python Basic Syntax "
   ]
  },
  {
   "cell_type": "code",
   "execution_count": null,
   "metadata": {
    "colab": {
     "autoexec": {
      "startup": false,
      "wait_interval": 0
     }
    },
    "colab_type": "code",
    "id": "l2zurz5U7GUH",
    "scrolled": true
   },
   "outputs": [],
   "source": [
    "print(\"Hello Duckietown!\")"
   ]
  },
  {
   "cell_type": "code",
   "execution_count": null,
   "metadata": {
    "colab": {
     "autoexec": {
      "startup": false,
      "wait_interval": 0
     }
    },
    "colab_type": "code",
    "id": "T3PImRbS7GUH"
   },
   "outputs": [],
   "source": [
    "# With Python, you don't need to declare data type\n",
    "# You don't need semicolum (;) either\n",
    "\n",
    "x=1\n",
    "print (\"x =\", x)"
   ]
  },
  {
   "cell_type": "code",
   "execution_count": null,
   "metadata": {
    "colab": {
     "autoexec": {
      "startup": false,
      "wait_interval": 0
     }
    },
    "colab_type": "code",
    "id": "ecY_WoCr7GUH"
   },
   "outputs": [],
   "source": [
    "# Python for loop\n",
    "for i in range(1, 10):\n",
    "    print (i)"
   ]
  },
  {
   "cell_type": "code",
   "execution_count": null,
   "metadata": {},
   "outputs": [],
   "source": [
    "# Python while loop\n",
    "i = 0\n",
    "max_num = 5\n",
    "while i < max_num:\n",
    "    i += 1\n",
    "\n",
    "print (\"i =\", i)"
   ]
  },
  {
   "cell_type": "code",
   "execution_count": null,
   "metadata": {
    "colab": {
     "autoexec": {
      "startup": false,
      "wait_interval": 0
     }
    },
    "colab_type": "code",
    "id": "gva-PCrO7GUH",
    "scrolled": true
   },
   "outputs": [],
   "source": [
    "# Python \"list\", a similar things of array in C++\n",
    "x=['B', 'L', 'F', 'F']\n",
    "\n",
    "print (x[0])\n",
    "\n",
    "x.append('W')\n",
    "print (x)\n",
    "\n",
    "x.remove('F')\n",
    "print (x)"
   ]
  },
  {
   "cell_type": "code",
   "execution_count": null,
   "metadata": {
    "colab": {
     "autoexec": {
      "startup": false,
      "wait_interval": 0
     }
    },
    "colab_type": "code",
    "id": "DQvh8vxt7GUH",
    "scrolled": true
   },
   "outputs": [],
   "source": [
    "route = \"\"\n",
    "for i in x:\n",
    "    print (\"i =\",i)\n",
    "    if i != 'L':\n",
    "        route += i\n",
    "print (\"route =\",route)"
   ]
  },
  {
   "cell_type": "code",
   "execution_count": null,
   "metadata": {},
   "outputs": [],
   "source": [
    "# The concenience of python list\n",
    "origin_list = [0, 1, 2, 3, 4, 5, 6]\n",
    "print (\"Length of list: \", len(origin_list))\n",
    "print (\"Index Number 5: \", origin_list[5])\n",
    "print (\"Index Number Last One: \", origin_list[-1])\n",
    "from_3_to_the_end = origin_list[3:]\n",
    "print (\"From 3 to the end: \", from_3_to_the_end)\n",
    "without_last_one = origin_list[:-1]\n",
    "print (\"Without the last element: \", without_last_one)\n",
    "without_last_two = origin_list[:-2]\n",
    "print (\"Without the last two element: \", without_last_two)"
   ]
  },
  {
   "cell_type": "code",
   "execution_count": null,
   "metadata": {},
   "outputs": [],
   "source": [
    "# The power of python list\n",
    "# Multi-dimention list with \":\"\n",
    "origin_3D = [[[100, 101], [110, 111]], [[200, 201], [210, 211]]]\n",
    "# A 2*2*2 list\n",
    "print (origin_3D)\n",
    "# Get the second element of the second dimension\n",
    "new_list = origin_3D[:][1][:]\n",
    "print (new_list)"
   ]
  },
  {
   "cell_type": "code",
   "execution_count": null,
   "metadata": {},
   "outputs": [],
   "source": [
    "# Python dict, use meaningful string as index\n",
    "dictionary = {}\n",
    "dictionary['student_id'] = 345\n",
    "dictionary['student_name'] = 'Eric'\n",
    "\n",
    "print (dictionary)\n",
    "print (dictionary['student_name'])"
   ]
  },
  {
   "cell_type": "code",
   "execution_count": null,
   "metadata": {
    "colab": {
     "autoexec": {
      "startup": false,
      "wait_interval": 0
     }
    },
    "colab_type": "code",
    "id": "PmVRZ9257GUY"
   },
   "outputs": [],
   "source": [
    "x=0\n",
    "if x==1 :\n",
    "    print(\"x equals 1\")\n",
    "else : \n",
    "    print(\"x doesn't equal 1\")"
   ]
  },
  {
   "cell_type": "code",
   "execution_count": null,
   "metadata": {},
   "outputs": [],
   "source": [
    "# Python do care about Data type\n",
    "x = 10\n",
    "result_int = int(x/3)\n",
    "result_float = x/3\n",
    "print (\"int result: \", result_int)\n",
    "print (\"float result: \", result_float)"
   ]
  },
  {
   "cell_type": "markdown",
   "metadata": {
    "colab_type": "text",
    "id": "pyga1sZj7GUY"
   },
   "source": [
    "# Playing around with Numpy & Scipy  "
   ]
  },
  {
   "cell_type": "markdown",
   "metadata": {
    "colab_type": "text",
    "id": "xnaRUNY37GUY"
   },
   "source": [
    "### Numpy & Scipy are commonly used library for math and science purpose\n",
    "### They are powerful and will save us a lot of trouble"
   ]
  },
  {
   "cell_type": "markdown",
   "metadata": {
    "colab_type": "text",
    "id": "HNgxybGA7GUY"
   },
   "source": [
    "## import lib"
   ]
  },
  {
   "cell_type": "code",
   "execution_count": null,
   "metadata": {
    "colab": {
     "autoexec": {
      "startup": false,
      "wait_interval": 0
     }
    },
    "colab_type": "code",
    "id": "Sg8bkVIf7GUY"
   },
   "outputs": [],
   "source": [
    "import numpy as np\n",
    "import scipy as sp"
   ]
  },
  {
   "cell_type": "markdown",
   "metadata": {
    "colab_type": "text",
    "id": "l5mRxUdr7GUY"
   },
   "source": [
    "## array declaration"
   ]
  },
  {
   "cell_type": "code",
   "execution_count": null,
   "metadata": {
    "colab": {
     "autoexec": {
      "startup": false,
      "wait_interval": 0
     }
    },
    "colab_type": "code",
    "id": "MMrOq8hY7GUY"
   },
   "outputs": [],
   "source": [
    "x = np.array([1, 2, 3])\n",
    "for i in range(x.shape[0]) :\n",
    "    print (x[i])\n",
    "print (x.shape, type(x), type(x[0]))"
   ]
  },
  {
   "cell_type": "code",
   "execution_count": null,
   "metadata": {
    "colab": {
     "autoexec": {
      "startup": false,
      "wait_interval": 0
     }
    },
    "colab_type": "code",
    "id": "uFSTNEQO7GUY",
    "scrolled": true
   },
   "outputs": [],
   "source": [
    "x = np.array([[1, 2, 3], [4, 5, 6]])\n",
    "for i in range(x.shape[0]) :\n",
    "    for j in range(x.shape[1]) :\n",
    "        print (x[i][j])\n",
    "print (x.shape, type(x), type(x[0]), type(x[0][0]))"
   ]
  },
  {
   "cell_type": "code",
   "execution_count": null,
   "metadata": {
    "colab": {
     "autoexec": {
      "startup": false,
      "wait_interval": 0
     }
    },
    "colab_type": "code",
    "id": "Jg6WkPZY7GUY",
    "scrolled": true
   },
   "outputs": [],
   "source": [
    "x = np.zeros((3, 4))\n",
    "print (x)"
   ]
  },
  {
   "cell_type": "code",
   "execution_count": null,
   "metadata": {
    "colab": {
     "autoexec": {
      "startup": false,
      "wait_interval": 0
     }
    },
    "colab_type": "code",
    "id": "M_4NJJgW7GUY"
   },
   "outputs": [],
   "source": [
    "x = np.ones((3, 4))\n",
    "print (x)"
   ]
  },
  {
   "cell_type": "code",
   "execution_count": null,
   "metadata": {
    "colab": {
     "autoexec": {
      "startup": false,
      "wait_interval": 0
     }
    },
    "colab_type": "code",
    "id": "I4IJnz1T7GUY"
   },
   "outputs": [],
   "source": [
    "x = np.arange(10, 30 ,5)\n",
    "print (x)"
   ]
  },
  {
   "cell_type": "markdown",
   "metadata": {
    "colab_type": "text",
    "id": "Di9beYdf7GUY"
   },
   "source": [
    "## array manipulation"
   ]
  },
  {
   "cell_type": "code",
   "execution_count": null,
   "metadata": {
    "colab": {
     "autoexec": {
      "startup": false,
      "wait_interval": 0
     }
    },
    "colab_type": "code",
    "id": "NYnStCxx7GUn"
   },
   "outputs": [],
   "source": [
    "x = np.arange(15)\n",
    "print (x)\n",
    "x = x.reshape(3,5)\n",
    "print (x)"
   ]
  },
  {
   "cell_type": "markdown",
   "metadata": {
    "colab_type": "text",
    "id": "fBxkxp3s7GUn"
   },
   "source": [
    "## visualization (matplotlib) "
   ]
  },
  {
   "cell_type": "code",
   "execution_count": null,
   "metadata": {
    "colab": {
     "autoexec": {
      "startup": false,
      "wait_interval": 0
     }
    },
    "colab_type": "code",
    "id": "qthdPVqS7GUn"
   },
   "outputs": [],
   "source": [
    "from matplotlib import pyplot as plt"
   ]
  },
  {
   "cell_type": "code",
   "execution_count": null,
   "metadata": {
    "colab": {
     "autoexec": {
      "startup": false,
      "wait_interval": 0
     }
    },
    "colab_type": "code",
    "id": "FgeTE0fd7GUn"
   },
   "outputs": [],
   "source": [
    "plt.plot([1,2,3], [1,2,3], 'ro')\n",
    "#toggle axis\n",
    "#plt.axis([0, 5, 0, 5])\n",
    "plt.show()"
   ]
  },
  {
   "cell_type": "code",
   "execution_count": null,
   "metadata": {
    "colab": {
     "autoexec": {
      "startup": false,
      "wait_interval": 0
     }
    },
    "colab_type": "code",
    "id": "ePh_gcfW7GUn"
   },
   "outputs": [],
   "source": [
    "x = np.arange(100).reshape(10,10)\n",
    "print (x)"
   ]
  },
  {
   "cell_type": "code",
   "execution_count": null,
   "metadata": {
    "colab": {
     "autoexec": {
      "startup": false,
      "wait_interval": 0
     }
    },
    "colab_type": "code",
    "id": "mQ3bvxG47GUn"
   },
   "outputs": [],
   "source": [
    "plt.matshow(x)\n",
    "#toggle for gray colormap\n",
    "plt.matshow(x, cmap=plt.cm.gray)\n",
    "plt.show()"
   ]
  },
  {
   "cell_type": "markdown",
   "metadata": {
    "colab_type": "text",
    "id": "x5GVs3Be7GUn"
   },
   "source": [
    "## Let's use it to do our math homework! "
   ]
  },
  {
   "cell_type": "markdown",
   "metadata": {
    "colab_type": "text",
    "id": "HJbK3jgp7GUn"
   },
   "source": [
    "### Calculus "
   ]
  },
  {
   "cell_type": "code",
   "execution_count": null,
   "metadata": {
    "colab": {
     "autoexec": {
      "startup": false,
      "wait_interval": 0
     }
    },
    "colab_type": "code",
    "id": "YGzs20aL7GUn"
   },
   "outputs": [],
   "source": [
    "from scipy import integrate"
   ]
  },
  {
   "cell_type": "code",
   "execution_count": null,
   "metadata": {
    "colab": {
     "autoexec": {
      "startup": false,
      "wait_interval": 0
     }
    },
    "colab_type": "code",
    "id": "pOiM3xi97GU3"
   },
   "outputs": [],
   "source": [
    "def f(x) :\n",
    "    return x**2\n",
    "result, err = integrate.quad(f, 0, 1)\n",
    "print (result)\n",
    "print (err)"
   ]
  },
  {
   "cell_type": "markdown",
   "metadata": {
    "colab_type": "text",
    "id": "bILb6zjo7GU3"
   },
   "source": [
    "# numpy meshgrid "
   ]
  },
  {
   "cell_type": "code",
   "execution_count": null,
   "metadata": {
    "colab": {
     "autoexec": {
      "startup": false,
      "wait_interval": 0
     }
    },
    "colab_type": "code",
    "id": "Ae4fLJx47GU3"
   },
   "outputs": [],
   "source": [
    "import numpy as np"
   ]
  },
  {
   "cell_type": "code",
   "execution_count": null,
   "metadata": {
    "colab": {
     "autoexec": {
      "startup": false,
      "wait_interval": 0
     }
    },
    "colab_type": "code",
    "id": "plKAMQFw7GU3"
   },
   "outputs": [],
   "source": [
    "nx, ny = (3,2)"
   ]
  },
  {
   "cell_type": "code",
   "execution_count": null,
   "metadata": {
    "colab": {
     "autoexec": {
      "startup": false,
      "wait_interval": 0
     }
    },
    "colab_type": "code",
    "id": "ea74AxFG7GU3"
   },
   "outputs": [],
   "source": [
    "x = np.linspace(0, 1, nx)\n",
    "print (x)"
   ]
  },
  {
   "cell_type": "code",
   "execution_count": null,
   "metadata": {
    "colab": {
     "autoexec": {
      "startup": false,
      "wait_interval": 0
     }
    },
    "colab_type": "code",
    "id": "jjUPFQJo7GU3"
   },
   "outputs": [],
   "source": [
    "y = np.linspace(0, 1, ny)\n",
    "print (y)"
   ]
  },
  {
   "cell_type": "code",
   "execution_count": null,
   "metadata": {
    "colab": {
     "autoexec": {
      "startup": false,
      "wait_interval": 0
     }
    },
    "colab_type": "code",
    "id": "yqSQfCE77GVG"
   },
   "outputs": [],
   "source": [
    "xv, yv = np.meshgrid(x, y)"
   ]
  },
  {
   "cell_type": "code",
   "execution_count": null,
   "metadata": {
    "colab": {
     "autoexec": {
      "startup": false,
      "wait_interval": 0
     }
    },
    "colab_type": "code",
    "id": "pV2lPZdF7GVG",
    "scrolled": false
   },
   "outputs": [],
   "source": [
    "print (xv)"
   ]
  },
  {
   "cell_type": "code",
   "execution_count": null,
   "metadata": {
    "colab": {
     "autoexec": {
      "startup": false,
      "wait_interval": 0
     }
    },
    "colab_type": "code",
    "id": "MixO-uTJ7GVG"
   },
   "outputs": [],
   "source": [
    "print (yv)"
   ]
  },
  {
   "cell_type": "markdown",
   "metadata": {
    "colab_type": "text",
    "id": "zGlCMCd67GVG"
   },
   "source": [
    "## example for function evaluation "
   ]
  },
  {
   "cell_type": "code",
   "execution_count": null,
   "metadata": {
    "colab": {
     "autoexec": {
      "startup": false,
      "wait_interval": 0
     }
    },
    "colab_type": "code",
    "id": "h0EzU96-7GVG"
   },
   "outputs": [],
   "source": [
    "import numpy as np\n",
    "import matplotlib.pyplot as plt\n",
    "x = np.arange(-5, 5, 0.1)\n",
    "y = np.arange(-5, 5, 0.1)"
   ]
  },
  {
   "cell_type": "code",
   "execution_count": null,
   "metadata": {
    "colab": {
     "autoexec": {
      "startup": false,
      "wait_interval": 0
     }
    },
    "colab_type": "code",
    "id": "hq5wGHqe7GVG",
    "scrolled": false
   },
   "outputs": [],
   "source": [
    "xx, yy = np.meshgrid(x, y, sparse = True)\n",
    "#print xx\n",
    "#print yy\n"
   ]
  },
  {
   "cell_type": "code",
   "execution_count": null,
   "metadata": {},
   "outputs": [],
   "source": [
    "# 3-dimentional function\n",
    "# z = sin(2x + 2y) / (2x + 2y)\n",
    "z = np.sin(xx*2+yy*2)/(xx*2+yy*2)\n",
    "h = plt.contourf(x, y, z)\n",
    "plt.show()"
   ]
  },
  {
   "cell_type": "markdown",
   "metadata": {
    "colab_type": "text",
    "id": "HV0VYZQ07GVW"
   },
   "source": [
    "## unravel_index"
   ]
  },
  {
   "cell_type": "markdown",
   "metadata": {
    "colab_type": "text",
    "id": "bx6nXHHM7GVW"
   },
   "source": [
    "### return value is row and col"
   ]
  },
  {
   "cell_type": "code",
   "execution_count": null,
   "metadata": {
    "colab": {
     "autoexec": {
      "startup": false,
      "wait_interval": 0
     }
    },
    "colab_type": "code",
    "id": "MuFbAp0X7GVW"
   },
   "outputs": [],
   "source": [
    "print (np.unravel_index([1,2,3,4],(4,4)))"
   ]
  },
  {
   "cell_type": "code",
   "execution_count": null,
   "metadata": {},
   "outputs": [],
   "source": [
    "# [0, 1, 2, 3]\n",
    "# [4, 5, 6, 7]\n",
    "# [8, 9, 10, 11]\n",
    "# [12, 13, 14, 15]"
   ]
  },
  {
   "cell_type": "code",
   "execution_count": null,
   "metadata": {
    "colab": {
     "autoexec": {
      "startup": false,
      "wait_interval": 0
     }
    },
    "colab_type": "code",
    "id": "szQUklZl7GVW",
    "scrolled": true
   },
   "outputs": [],
   "source": [
    "print (np.unravel_index([1,2,3,4],(4,2)))"
   ]
  },
  {
   "cell_type": "code",
   "execution_count": null,
   "metadata": {},
   "outputs": [],
   "source": [
    "# [0, 1]\n",
    "# [2, 3]\n",
    "# [4, 5]\n",
    "# [6, 7]"
   ]
  }
 ],
 "metadata": {
  "colab": {
   "default_view": {},
   "name": "04-01.python_tutorial.ipynb",
   "provenance": [],
   "version": "0.3.2",
   "views": {}
  },
  "kernelspec": {
   "display_name": "Python 2",
   "language": "python",
   "name": "python2"
  },
  "language_info": {
   "codemirror_mode": {
    "name": "ipython",
    "version": 2
   },
   "file_extension": ".py",
   "mimetype": "text/x-python",
   "name": "python",
   "nbconvert_exporter": "python",
   "pygments_lexer": "ipython2",
   "version": "2.7.12"
  }
 },
 "nbformat": 4,
 "nbformat_minor": 1
}
