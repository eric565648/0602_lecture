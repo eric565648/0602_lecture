{
 "cells": [
  {
   "cell_type": "code",
   "execution_count": 5,
   "metadata": {},
   "outputs": [
    {
     "name": "stdout",
     "output_type": "stream",
     "text": [
      "['', '/opt/ros/kinetic/lib/python2.7/dist-packages', '/usr/lib/python36.zip', '/usr/lib/python3.6', '/usr/lib/python3.6/lib-dynload', '/home/erickie/.local/lib/python3.6/site-packages', '/home/erickie/gym-duckietown', '/usr/local/lib/python3.6/dist-packages', '/usr/lib/python3/dist-packages', '/home/erickie/.local/lib/python3.6/site-packages/IPython/extensions', '/home/erickie/.ipython']\n"
     ]
    }
   ],
   "source": [
    "import sys\n",
    "print (sys.path)\n",
    "delete_id = []\n",
    "for it, one_path in sys.path:\n",
    "    if 'python2.7' in one_path\n",
    "\n",
    "import numpy as np\n",
    "import scipy as sp\n",
    "#import cv2\n",
    "import time"
   ]
  },
  {
   "cell_type": "code",
   "execution_count": null,
   "metadata": {},
   "outputs": [],
   "source": []
  },
  {
   "cell_type": "code",
   "execution_count": null,
   "metadata": {},
   "outputs": [],
   "source": []
  }
 ],
 "metadata": {
  "kernelspec": {
   "display_name": "Python 3",
   "language": "python",
   "name": "python3"
  },
  "language_info": {
   "codemirror_mode": {
    "name": "ipython",
    "version": 3
   },
   "file_extension": ".py",
   "mimetype": "text/x-python",
   "name": "python",
   "nbconvert_exporter": "python",
   "pygments_lexer": "ipython3",
   "version": "3.6.8"
  }
 },
 "nbformat": 4,
 "nbformat_minor": 2
}
