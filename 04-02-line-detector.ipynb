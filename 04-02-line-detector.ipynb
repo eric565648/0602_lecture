{
 "cells": [
  {
   "cell_type": "markdown",
   "metadata": {
    "colab_type": "text",
    "id": "lZAR_Ovh4xRf"
   },
   "source": [
    "# 4-2 Line Detectors"
   ]
  },
  {
   "cell_type": "markdown",
   "metadata": {
    "colab_type": "text",
    "id": "ig6Ct-ml4xRg"
   },
   "source": [
    "### Import Packages"
   ]
  },
  {
   "cell_type": "code",
   "execution_count": 1,
   "metadata": {
    "colab": {
     "autoexec": {
      "startup": false,
      "wait_interval": 0
     }
    },
    "colab_type": "code",
    "id": "uJGta5mQ4xRh"
   },
   "outputs": [],
   "source": [
    "import numpy as np\n",
    "import scipy as sp\n",
    "import cv2\n",
    "import time\n",
    "\n",
    "from matplotlib import pyplot as plt\n",
    "%matplotlib inline\n",
    "# set display defaults\n",
    "plt.rcParams['figure.figsize'] = (15, 15)        # large images\n",
    "plt.rcParams['image.interpolation'] = 'nearest'  # don't interpolate: show square pixels"
   ]
  },
  {
   "cell_type": "code",
   "execution_count": 2,
   "metadata": {},
   "outputs": [
    {
     "data": {
      "text/plain": [
       "'3.3.1-dev'"
      ]
     },
     "execution_count": 2,
     "metadata": {},
     "output_type": "execute_result"
    }
   ],
   "source": [
    "cv2.__version__"
   ]
  },
  {
   "cell_type": "markdown",
   "metadata": {
    "colab_type": "text",
    "id": "MektZ__S4xRj"
   },
   "source": [
    "## Load the image and resize"
   ]
  },
  {
   "cell_type": "code",
   "execution_count": null,
   "metadata": {
    "colab": {
     "autoexec": {
      "startup": false,
      "wait_interval": 0
     },
     "base_uri": "https://localhost:8080/",
     "height": 253
    },
    "colab_type": "code",
    "executionInfo": {
     "elapsed": 696,
     "status": "error",
     "timestamp": 1532144017314,
     "user": {
      "displayName": "佘佘柏陞",
      "photoUrl": "https://lh3.googleusercontent.com/a/default-user=s128",
      "userId": "107968214057698073627"
     },
     "user_tz": -480
    },
    "id": "A5t8bzeX4xRk",
    "outputId": "20939f06-e83a-46c9-f735-c817a4c6859b"
   },
   "outputs": [],
   "source": [
    "plt.rcParams['figure.figsize'] = (15, 15)\n",
    "\n",
    "import cv2\n",
    "import numpy as np\n",
    "from matplotlib import pyplot as plt\n",
    "\n",
    "# Load Image\n",
    "img = cv2.imread(\"images/road.jpg\")\n",
    "\n",
    "# Resize image\n",
    "image_cv = cv2.resize(img, (160, 120),interpolation=cv2.INTER_NEAREST)\n",
    "\n",
    "# Covert Color Space\n",
    "dst1 = cv2.cvtColor(img,cv2.COLOR_BGR2RGB)\n",
    "plt.subplot(121),plt.imshow(dst1,cmap = 'brg')\n",
    "plt.title('Original Image'), plt.xticks([]), plt.yticks([])\n",
    "\n",
    "dst2 = cv2.cvtColor(image_cv,cv2.COLOR_BGR2RGB)\n",
    "plt.subplot(122),plt.imshow(dst2,cmap = 'brg')\n",
    "plt.title('Resized Image'), plt.xticks([]), plt.yticks([])\n",
    "\n",
    "plt.show()"
   ]
  },
  {
   "cell_type": "markdown",
   "metadata": {},
   "source": [
    "### Reference\n",
    "Geometric Transformation https://docs.opencv.org/3.0-beta/modules/imgproc/doc/geometric_transformations.html"
   ]
  },
  {
   "cell_type": "markdown",
   "metadata": {
    "colab_type": "text",
    "id": "8AfHA0vl4xRp"
   },
   "source": [
    "## Find the Edges\n",
    "\n",
    "You should find the config file 'universal.yaml'"
   ]
  },
  {
   "cell_type": "code",
   "execution_count": null,
   "metadata": {
    "colab": {
     "autoexec": {
      "startup": false,
      "wait_interval": 0
     }
    },
    "colab_type": "code",
    "id": "04unOzVj4xRp",
    "outputId": "9a43f649-b214-46e1-dfac-19eb7bd93fb8",
    "scrolled": false
   },
   "outputs": [],
   "source": [
    "# Conver Color Space (Gray Scale)\n",
    "gray = cv2.cvtColor(image_cv,cv2.COLOR_BGR2GRAY)\n",
    "# Find edges with Canny Edge Detector\n",
    "edges=cv2.Canny(gray,50,150)\n",
    "\n",
    "plt.subplot(121), plt.imshow(edges,cmap = 'gray')\n",
    "plt.title('Edge Image'), plt.xticks([]), plt.yticks([])\n",
    "plt.show()"
   ]
  },
  {
   "cell_type": "markdown",
   "metadata": {},
   "source": [
    "### Reference\n",
    "Canny Edge Detector https://docs.opencv.org/3.1.0/da/d22/tutorial_py_canny.html"
   ]
  },
  {
   "cell_type": "markdown",
   "metadata": {
    "colab_type": "text",
    "id": "xYrupY3s4xRr"
   },
   "source": [
    "## Setup HSV Space Threshold\n",
    "\n",
    "You should find the config file 'universal.yaml'"
   ]
  },
  {
   "cell_type": "code",
   "execution_count": null,
   "metadata": {
    "colab": {
     "autoexec": {
      "startup": false,
      "wait_interval": 0
     }
    },
    "colab_type": "code",
    "id": "0F53TMGO4xRs"
   },
   "outputs": [],
   "source": [
    "# Define the boundaries of \"white\", \"yellow\" and \"red\"\n",
    "hsv_white1 = np.array([0,0,150])\n",
    "hsv_white2 = np.array([180,100,255])\n",
    "hsv_yellow1 = np.array([25,50,50])\n",
    "hsv_yellow2 = np.array([45,255,255])\n",
    "# The color \"red\" needs two set of boundaries cause it pass 255 to 0\n",
    "hsv_red1 = np.array([0,100,100])\n",
    "hsv_red2 = np.array([15,255,255])\n",
    "hsv_red3 = np.array([165,100,100])\n",
    "hsv_red4 = np.array([180,255,255])"
   ]
  },
  {
   "cell_type": "markdown",
   "metadata": {
    "colab_type": "text",
    "id": "K7FB9H0X4xRu"
   },
   "source": [
    "### Threshold colors in HSV space"
   ]
  },
  {
   "cell_type": "code",
   "execution_count": null,
   "metadata": {
    "colab": {
     "autoexec": {
      "startup": false,
      "wait_interval": 0
     }
    },
    "colab_type": "code",
    "id": "pcOelTvn4xRv",
    "outputId": "a990cc01-5c47-4a40-96e3-ab2c3a055168"
   },
   "outputs": [],
   "source": [
    "# Covert color space from BGR to HSV\n",
    "hsv = cv2.cvtColor(image_cv,cv2.COLOR_BGR2HSV)\n",
    "# Tresholding white\n",
    "white = cv2.inRange(hsv,hsv_white1,hsv_white2)\n",
    "# Thresholding yellow\n",
    "yellow = cv2.inRange(hsv,hsv_yellow1,hsv_yellow2)\n",
    "# Thresholding red\n",
    "red1 = cv2.inRange(hsv,hsv_red1,hsv_red2)\n",
    "red2 = cv2.inRange(hsv,hsv_red3,hsv_red4)\n",
    "red = cv2.bitwise_or(red1,red2) # Combine both red region\n",
    "# Make the region a bit wider\n",
    "kernel = cv2.getStructuringElement(cv2.MORPH_ELLIPSE,(3, 3))\n",
    "white = cv2.dilate(white, kernel)\n",
    "yellow = cv2.dilate(yellow, kernel)\n",
    "red = cv2.dilate(red, kernel)\n",
    "\n",
    "# This part is only here for ploting picture #\n",
    "white_show = cv2.cvtColor(white, cv2.COLOR_GRAY2BGR)\n",
    "white_show[:,:,2] *= 1\n",
    "white_show[:,:,1] *= 1\n",
    "white_show[:,:,0] *= 1\n",
    "white_show = cv2.cvtColor(white_show, cv2.COLOR_BGR2RGB)\n",
    "\n",
    "yellow_show = cv2.cvtColor(yellow, cv2.COLOR_GRAY2BGR)\n",
    "yellow_show[:,:,2] *= 1\n",
    "yellow_show[:,:,1] *= 1\n",
    "yellow_show[:,:,0] *= 0\n",
    "yellow_show = cv2.cvtColor(yellow_show, cv2.COLOR_BGR2RGB)\n",
    "\n",
    "red_show = cv2.cvtColor(red, cv2.COLOR_GRAY2BGR)\n",
    "red_show[:,:,2] *= 1\n",
    "red_show[:,:,1] *= 0\n",
    "red_show[:,:,0] *= 0\n",
    "red_show = cv2.cvtColor(red_show, cv2.COLOR_BGR2RGB)\n",
    "\n",
    "############################################################\n",
    "\n",
    "plt.subplot(221),plt.imshow(dst2,cmap = 'brg')\n",
    "plt.title('Origin'), plt.xticks([]), plt.yticks([])\n",
    "\n",
    "plt.subplot(222),plt.imshow(white_show,cmap = 'gray')\n",
    "plt.title('White'), plt.xticks([]), plt.yticks([])\n",
    "\n",
    "plt.subplot(223),plt.imshow(yellow_show,cmap = 'brg')\n",
    "plt.title('Yellow'), plt.xticks([]), plt.yticks([])\n",
    "\n",
    "plt.subplot(224),plt.imshow(red_show,cmap = 'brg')\n",
    "plt.title('Red'), plt.xticks([]), plt.yticks([])\n",
    "\n",
    "plt.show()\n",
    "\n",
    "#############################################################"
   ]
  },
  {
   "cell_type": "markdown",
   "metadata": {},
   "source": [
    "### Reference of HSV \n",
    "\n",
    "Changing Color Space\n",
    "https://docs.opencv.org/3.0-beta/doc/py_tutorials/py_imgproc/py_colorspaces/py_colorspaces.html\n",
    "\n",
    "Dilation\n",
    "https://docs.opencv.org/3.0-beta/doc/py_tutorials/py_imgproc/py_morphological_ops/py_morphological_ops.html"
   ]
  },
  {
   "cell_type": "markdown",
   "metadata": {
    "colab_type": "text",
    "id": "KHr1CzRm4xRz"
   },
   "source": [
    "### Combine Edge and Colors"
   ]
  },
  {
   "cell_type": "code",
   "execution_count": null,
   "metadata": {
    "colab": {
     "autoexec": {
      "startup": false,
      "wait_interval": 0
     }
    },
    "colab_type": "code",
    "id": "WSqz-AOj4xRz",
    "outputId": "83f9697d-e29f-490c-a68e-bc3dd36d54d3"
   },
   "outputs": [],
   "source": [
    "# Use and to combine the result of Edge and color\n",
    "edge_color_white=cv2.bitwise_and(edges,white)\n",
    "edge_color_yellow=cv2.bitwise_and(edges,yellow)\n",
    "edge_color_red=cv2.bitwise_and(edges,red)\n",
    "\n",
    "plt.subplot(131),plt.imshow(edge_color_white,cmap = 'gray')\n",
    "plt.title('Edge Color W'), plt.xticks([]), plt.yticks([])\n",
    "plt.subplot(132),plt.imshow(edge_color_yellow,cmap = 'gray')\n",
    "plt.title('Edge Color Y'), plt.xticks([]), plt.yticks([])\n",
    "plt.subplot(133),plt.imshow(edge_color_red,cmap = 'gray')\n",
    "plt.title('Edge Color R'), plt.xticks([]), plt.yticks([])\n",
    "\n",
    "plt.show()"
   ]
  },
  {
   "cell_type": "markdown",
   "metadata": {
    "colab_type": "text",
    "id": "7dNnFggA4xR2"
   },
   "source": [
    "### Find the Lines"
   ]
  },
  {
   "cell_type": "code",
   "execution_count": null,
   "metadata": {
    "colab": {
     "autoexec": {
      "startup": false,
      "wait_interval": 0
     }
    },
    "colab_type": "code",
    "id": "SQSDzLn34xR3",
    "outputId": "6773665d-7727-4894-f763-1f83e724b15b",
    "scrolled": true
   },
   "outputs": [],
   "source": [
    "# Use Probabilistic Hough Line Transform to find lines\n",
    "lines_white = cv2.HoughLinesP(edge_color_white,1,np.pi/180,10,np.empty(1),1.5,1)\n",
    "lines_yellow = cv2.HoughLinesP(edge_color_yellow,1,np.pi/180,10,np.empty(1),1.5,1)\n",
    "lines_red = cv2.HoughLinesP(edge_color_red,1,np.pi/180,10,np.empty(1),1.5,1)\n",
    "\n",
    "# The result (A 3-diension array)\n",
    "COLOR = 'YELLOW'\n",
    "if COLOR == 'YELLOW':\n",
    "    lines = lines_yellow\n",
    "    origin_img = edge_color_yellow\n",
    "elif COLOR == 'WHITE':\n",
    "    lines = lines_white\n",
    "    origin_img = edge_color_white\n",
    "elif COLOR == 'RED':\n",
    "    lines = lines_red\n",
    "    origin_img = edge_color_red\n",
    "\n",
    "print (lines)\n",
    "    \n",
    "if lines is not None:\n",
    "    # Get rid of a dimesion become a 2 dimension array for next step of processing\n",
    "    lines = lines[:, 0, :]\n",
    "    print (lines)\n",
    "    print (\"found lines\")\n",
    "\n",
    "else:\n",
    "    lines = []\n",
    "    print (\"no lines\")"
   ]
  },
  {
   "cell_type": "markdown",
   "metadata": {},
   "source": [
    "### Reference \n",
    "\n",
    "Hough Line Transform\n",
    "https://docs.opencv.org/3.0-beta/doc/tutorials/imgproc/imgtrans/hough_lines/hough_lines.html"
   ]
  },
  {
   "cell_type": "markdown",
   "metadata": {
    "colab_type": "text",
    "id": "v13vNiru4xR6"
   },
   "source": [
    "### Show the lines (yellow)"
   ]
  },
  {
   "cell_type": "code",
   "execution_count": null,
   "metadata": {
    "colab": {
     "autoexec": {
      "startup": false,
      "wait_interval": 0
     }
    },
    "colab_type": "code",
    "id": "PbJI4usY4xR7",
    "outputId": "fde36daf-18b4-4479-b178-f2de9f837599",
    "scrolled": true
   },
   "outputs": [],
   "source": [
    "image_with_lines = np.copy(dst2)\n",
    "if len(lines)>0:\n",
    "    for x1,y1,x2,y2 in lines:\n",
    "        cv2.line(image_with_lines, (x1,y1), (x2,y2), (0,0,255), 2)\n",
    "        cv2.circle(image_with_lines, (x1,y1), 2, (0,255,0))\n",
    "        cv2.circle(image_with_lines, (x2,y2), 2, (255,0,0))\n",
    "        \n",
    "plt.subplot(121),plt.imshow(origin_img,cmap = 'gray')\n",
    "plt.title('Origin'), plt.xticks([]), plt.yticks([])\n",
    "plt.subplot(122),plt.imshow(image_with_lines,cmap = 'brg')\n",
    "plt.title('Line Image'), plt.xticks([]), plt.yticks([])\n",
    "plt.show()"
   ]
  },
  {
   "cell_type": "markdown",
   "metadata": {
    "colab_type": "text",
    "id": "wdSHIe6R4xR9"
   },
   "source": [
    "## More Examples about Canny Edge Detector "
   ]
  },
  {
   "cell_type": "code",
   "execution_count": null,
   "metadata": {
    "colab": {
     "autoexec": {
      "startup": false,
      "wait_interval": 0
     }
    },
    "colab_type": "code",
    "id": "1VQiGT674xR-",
    "outputId": "fd2ec9bc-0c30-475a-ccd6-2af3b1aa871f",
    "scrolled": true
   },
   "outputs": [],
   "source": [
    "import cv2\n",
    "import numpy as np\n",
    "from matplotlib import pyplot as plt\n",
    "\n",
    "img = cv2.imread('images/duckietown.jpg',0)\n",
    "edges = cv2.Canny(img,100,200)\n",
    "\n",
    "#img1 = cv2.cvtColor(img, cv2.COLOR_BGR2RGB)\n",
    "plt.subplot(121),plt.imshow(img, cmap = 'gray')\n",
    "plt.title('Original Image'), plt.xticks([]), plt.yticks([])\n",
    "plt.subplot(122),plt.imshow(edges,cmap = 'gray')\n",
    "plt.title('Edge Image'), plt.xticks([]), plt.yticks([])\n",
    "\n",
    "plt.show()"
   ]
  },
  {
   "cell_type": "code",
   "execution_count": null,
   "metadata": {
    "colab": {
     "autoexec": {
      "startup": false,
      "wait_interval": 0
     }
    },
    "colab_type": "code",
    "id": "2RLjZeNq4xSC",
    "outputId": "ad5315fd-586e-45ab-e9a8-97b12bb0746b"
   },
   "outputs": [],
   "source": [
    "img = cv2.imread('images/lena.bmp',0)\n",
    "edges = cv2.Canny(img,120, 130)\n",
    "\n",
    "plt.subplot(121),plt.imshow(img, cmap = 'gray')\n",
    "plt.title('Original Image'), plt.xticks([]), plt.yticks([])\n",
    "plt.subplot(122),plt.imshow(edges,cmap = 'gray')\n",
    "plt.title('Edge Image'), plt.xticks([]), plt.yticks([])\n",
    "\n",
    "plt.show()"
   ]
  },
  {
   "cell_type": "markdown",
   "metadata": {},
   "source": [
    "### Reference\n",
    "About Lena: https://en.wikipedia.org/wiki/Lenna"
   ]
  },
  {
   "cell_type": "markdown",
   "metadata": {
    "colab_type": "text",
    "id": "a99LOLnl4xSG"
   },
   "source": [
    "## More about Filters "
   ]
  },
  {
   "cell_type": "code",
   "execution_count": null,
   "metadata": {
    "colab": {
     "autoexec": {
      "startup": false,
      "wait_interval": 0
     }
    },
    "colab_type": "code",
    "id": "aBZfsTbC4xSL",
    "outputId": "5a704170-b7ff-413d-b8a3-c2477a7190d2"
   },
   "outputs": [],
   "source": [
    "import cv2\n",
    "import numpy as np\n",
    "from matplotlib import pyplot as plt\n",
    "\n",
    "img = cv2.imread('images/sudoku.jpg',0)\n",
    "\n",
    "laplacian = cv2.Laplacian(img,cv2.CV_64F)\n",
    "sobelx = cv2.Sobel(img,cv2.CV_64F,1,0,ksize=5)\n",
    "sobely = cv2.Sobel(img,cv2.CV_64F,0,1,ksize=5)\n",
    " \n",
    "plt.subplot(2,2,1),plt.imshow(img,cmap = 'gray')\n",
    "plt.title('Original'), plt.xticks([]), plt.yticks([])\n",
    "plt.subplot(2,2,2),plt.imshow(laplacian,cmap = 'gray')\n",
    "plt.title('Laplacian'), plt.xticks([]), plt.yticks([])\n",
    "plt.subplot(2,2,3),plt.imshow(sobelx,cmap = 'gray')\n",
    "plt.title('Sobel X'), plt.xticks([]), plt.yticks([])\n",
    "plt.subplot(2,2,4),plt.imshow(sobely,cmap = 'gray')\n",
    "plt.title('Sobel Y'), plt.xticks([]), plt.yticks([])\n",
    "\n",
    "plt.show()"
   ]
  },
  {
   "cell_type": "markdown",
   "metadata": {},
   "source": [
    "### Reference\n",
    "Image Gradient: https://docs.opencv.org/3.0-beta/doc/py_tutorials/py_imgproc/py_gradients/py_gradients.html"
   ]
  },
  {
   "cell_type": "markdown",
   "metadata": {
    "colab_type": "text",
    "id": "tzlqv1pN4xSN"
   },
   "source": [
    "## Advanced: More about Convolution and Thresholding"
   ]
  },
  {
   "cell_type": "markdown",
   "metadata": {
    "colab_type": "text",
    "id": "7pGUBGS14xSO"
   },
   "source": [
    "### We can use threshold mask as a tool for object detection"
   ]
  },
  {
   "cell_type": "code",
   "execution_count": null,
   "metadata": {
    "colab": {
     "autoexec": {
      "startup": false,
      "wait_interval": 0
     }
    },
    "colab_type": "code",
    "id": "zlpBAIRW4xSP"
   },
   "outputs": [],
   "source": [
    "import numpy as np\n",
    "import scipy as sp\n",
    "from matplotlib import pyplot as plt\n",
    "plt.rcParams['figure.figsize'] = (8, 8)"
   ]
  },
  {
   "cell_type": "code",
   "execution_count": null,
   "metadata": {
    "colab": {
     "autoexec": {
      "startup": false,
      "wait_interval": 0
     }
    },
    "colab_type": "code",
    "id": "84v-Lgmt4xSR"
   },
   "outputs": [],
   "source": [
    "import numpy as np\n",
    "a = np.zeros((100, 100))"
   ]
  },
  {
   "cell_type": "code",
   "execution_count": null,
   "metadata": {
    "colab": {
     "autoexec": {
      "startup": false,
      "wait_interval": 0
     }
    },
    "colab_type": "code",
    "id": "M27EaGRS4xSU"
   },
   "outputs": [],
   "source": [
    "l_mat = np.zeros((5, 5))\n",
    "l_map = [(1, 2), (2, 2), (3, 2), (3, 3)]\n",
    "for (i,j) in l_map :\n",
    "    l_mat[i][j]=100"
   ]
  },
  {
   "cell_type": "code",
   "execution_count": null,
   "metadata": {
    "colab": {
     "autoexec": {
      "startup": false,
      "wait_interval": 0
     }
    },
    "colab_type": "code",
    "id": "Ln54DECn4xSW",
    "outputId": "8cd0adfe-ef33-4f36-925a-a01e6d0db3ec"
   },
   "outputs": [],
   "source": [
    "plt.matshow(l_mat, cmap=plt.cm.gray)\n",
    "plt.show()"
   ]
  },
  {
   "cell_type": "code",
   "execution_count": null,
   "metadata": {
    "colab": {
     "autoexec": {
      "startup": false,
      "wait_interval": 0
     }
    },
    "colab_type": "code",
    "id": "m444qy9k4xSZ"
   },
   "outputs": [],
   "source": [
    "# Creatinga map randomly fill with L shpae\n",
    "for i in range(30) :\n",
    "    x = int(np.random.random()*94)\n",
    "    y = int(np.random.random()*94)\n",
    "    for p in range(l_mat.shape[0]) :\n",
    "        for q in range(l_mat.shape[1]) :\n",
    "            if(l_mat[p][q]!=0):\n",
    "                a[x+p][y+q]=l_mat[p][q]\n"
   ]
  },
  {
   "cell_type": "code",
   "execution_count": null,
   "metadata": {
    "colab": {
     "autoexec": {
      "startup": false,
      "wait_interval": 0
     }
    },
    "colab_type": "code",
    "id": "pllZZRKA4xSb",
    "outputId": "40858b02-999c-41ae-feb9-0afb812d3016"
   },
   "outputs": [],
   "source": [
    "plt.matshow(a, cmap=plt.cm.gray)\n",
    "plt.show()"
   ]
  },
  {
   "cell_type": "code",
   "execution_count": null,
   "metadata": {
    "colab": {
     "autoexec": {
      "startup": false,
      "wait_interval": 0
     }
    },
    "colab_type": "code",
    "id": "S3Z2oc5E4xSc"
   },
   "outputs": [],
   "source": [
    "# Doing thresholding\n",
    "threshold = np.zeros((100, 100))\n",
    "for i in range(a.shape[0]) :\n",
    "    for j in range(a.shape[1]) :\n",
    "        if a[i][j] > 95 :\n",
    "            threshold[i][j]=100"
   ]
  },
  {
   "cell_type": "code",
   "execution_count": null,
   "metadata": {
    "colab": {
     "autoexec": {
      "startup": false,
      "wait_interval": 0
     }
    },
    "colab_type": "code",
    "id": "LQ8pa5rP4xSd",
    "outputId": "6bc3c65d-a7b1-4079-ef75-ed8f42c4dc07"
   },
   "outputs": [],
   "source": [
    "plt.matshow(threshold, cmap=plt.cm.gray)\n",
    "plt.show()"
   ]
  },
  {
   "cell_type": "markdown",
   "metadata": {
    "colab_type": "text",
    "id": "X1T0vHj04xSk"
   },
   "source": [
    "### Convolution\n",
    "\n",
    "Using the L shape graph as kernal"
   ]
  },
  {
   "cell_type": "code",
   "execution_count": null,
   "metadata": {
    "colab": {
     "autoexec": {
      "startup": false,
      "wait_interval": 0
     }
    },
    "colab_type": "code",
    "id": "6iFJXOfn4xSk"
   },
   "outputs": [],
   "source": [
    "from scipy import signal\n",
    "conv = signal.convolve2d(a, l_mat)"
   ]
  },
  {
   "cell_type": "code",
   "execution_count": null,
   "metadata": {
    "colab": {
     "autoexec": {
      "startup": false,
      "wait_interval": 0
     }
    },
    "colab_type": "code",
    "id": "0sC6c2ek4xSm",
    "outputId": "d505ae3b-0187-4a91-a1ef-75d89fb8bd73"
   },
   "outputs": [],
   "source": [
    "plt.matshow(conv, cmap=plt.cm.gray)\n",
    "plt.show()"
   ]
  },
  {
   "cell_type": "markdown",
   "metadata": {
    "colab_type": "text",
    "id": "Fih0ZttY4xSo"
   },
   "source": [
    "### With Noise"
   ]
  },
  {
   "cell_type": "markdown",
   "metadata": {
    "colab_type": "text",
    "id": "CM3PLmHY4xSp"
   },
   "source": [
    " It seem that adding convoluton is not that good than pure threshold method. \n",
    " \n",
    " However, in the real world, there are noises everywhere."
   ]
  },
  {
   "cell_type": "code",
   "execution_count": null,
   "metadata": {
    "colab": {
     "autoexec": {
      "startup": false,
      "wait_interval": 0
     }
    },
    "colab_type": "code",
    "id": "ACzsJjH74xSp",
    "outputId": "3277c11b-c905-4ab1-ef98-b4d3a5626044",
    "scrolled": true
   },
   "outputs": [],
   "source": [
    "# Creating noises\n",
    "noise = np.random.random(10000).reshape(100,100)\n",
    "noise *=100\n",
    "print (noise)"
   ]
  },
  {
   "cell_type": "code",
   "execution_count": null,
   "metadata": {
    "colab": {
     "autoexec": {
      "startup": false,
      "wait_interval": 0
     }
    },
    "colab_type": "code",
    "id": "4s84vFoA4xSr",
    "outputId": "c3606e99-5469-4873-9d8d-358465b4358f"
   },
   "outputs": [],
   "source": [
    "# Noises\n",
    "plt.matshow(noise, cmap=plt.cm.gray)\n",
    "plt.show()"
   ]
  },
  {
   "cell_type": "code",
   "execution_count": null,
   "metadata": {
    "colab": {
     "autoexec": {
      "startup": false,
      "wait_interval": 0
     }
    },
    "colab_type": "code",
    "id": "F3SHsNKj4xSt"
   },
   "outputs": [],
   "source": [
    "noise_a = np.add(noise,a)"
   ]
  },
  {
   "cell_type": "code",
   "execution_count": null,
   "metadata": {
    "colab": {
     "autoexec": {
      "startup": false,
      "wait_interval": 0
     }
    },
    "colab_type": "code",
    "id": "k0z23C0a4xSu",
    "outputId": "d38d53df-16b1-4dad-f2b6-f7af92b364c8"
   },
   "outputs": [],
   "source": [
    "# noises with a lots of L shape inside\n",
    "plt.matshow(noise_a, vmax=100, cmap=plt.cm.gray)\n",
    "plt.show()"
   ]
  },
  {
   "cell_type": "markdown",
   "metadata": {
    "colab_type": "text",
    "id": "qo4z6cSq4xSw"
   },
   "source": [
    "### If we use pure threshold to detec the shape in a noise environment. How it goes?"
   ]
  },
  {
   "cell_type": "code",
   "execution_count": null,
   "metadata": {
    "colab": {
     "autoexec": {
      "startup": false,
      "wait_interval": 0
     }
    },
    "colab_type": "code",
    "id": "D7V6SCHI4xSw"
   },
   "outputs": [],
   "source": [
    "threshold = np.zeros((100, 100))\n",
    "for i in range(noise_a.shape[0]) :\n",
    "    for j in range(noise_a.shape[1]) :\n",
    "        if noise_a[i][j] > 98 :\n",
    "            threshold[i][j]=100"
   ]
  },
  {
   "cell_type": "code",
   "execution_count": null,
   "metadata": {
    "colab": {
     "autoexec": {
      "startup": false,
      "wait_interval": 0
     }
    },
    "colab_type": "code",
    "id": "uwwrCCcL4xSy",
    "outputId": "05439cc2-ba74-4dc6-d050-2e58a5a8017c"
   },
   "outputs": [],
   "source": [
    "plt.matshow(threshold, vmax=100, cmap=plt.cm.gray)\n",
    "plt.show()"
   ]
  },
  {
   "cell_type": "markdown",
   "metadata": {
    "colab_type": "text",
    "id": "cRj9AFWF4xS2"
   },
   "source": [
    "### How about adding convolution for help?"
   ]
  },
  {
   "cell_type": "code",
   "execution_count": null,
   "metadata": {
    "colab": {
     "autoexec": {
      "startup": false,
      "wait_interval": 0
     }
    },
    "colab_type": "code",
    "id": "ZkGdLVgK4xS3"
   },
   "outputs": [],
   "source": [
    "# First doing convolution\n",
    "conv = signal.convolve2d(noise_a, l_mat)\n",
    "conv /= conv.max()\n",
    "# then thresholding\n",
    "threshold = np.zeros((100, 100))\n",
    "for i in range(100) :\n",
    "    for j in range(100) :\n",
    "        if conv[i][j] > 0.65 :\n",
    "            threshold[i][j]=100"
   ]
  },
  {
   "cell_type": "code",
   "execution_count": null,
   "metadata": {
    "colab": {
     "autoexec": {
      "startup": false,
      "wait_interval": 0
     }
    },
    "colab_type": "code",
    "id": "QQST4_Xs4xS5",
    "outputId": "48ff64f8-a13f-4736-8713-8a4398dcc5dd"
   },
   "outputs": [],
   "source": [
    "plt.matshow(conv, cmap=plt.cm.gray)\n",
    "plt.matshow(threshold, cmap=plt.cm.gray)\n",
    "plt.matshow(a, cmap=plt.cm.gray)\n",
    "plt.show()"
   ]
  },
  {
   "cell_type": "code",
   "execution_count": null,
   "metadata": {},
   "outputs": [],
   "source": []
  }
 ],
 "metadata": {
  "colab": {
   "default_view": {},
   "name": "04-02.line_detector.ipynb",
   "provenance": [],
   "version": "0.3.2",
   "views": {}
  },
  "kernelspec": {
   "display_name": "Python 2",
   "language": "python",
   "name": "python2"
  },
  "language_info": {
   "codemirror_mode": {
    "name": "ipython",
    "version": 2
   },
   "file_extension": ".py",
   "mimetype": "text/x-python",
   "name": "python",
   "nbconvert_exporter": "python",
   "pygments_lexer": "ipython2",
   "version": "2.7.12"
  }
 },
 "nbformat": 4,
 "nbformat_minor": 1
}
